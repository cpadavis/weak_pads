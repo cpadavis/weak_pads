{
 "cells": [
  {
   "cell_type": "code",
   "execution_count": 1,
   "metadata": {
    "collapsed": true
   },
   "outputs": [],
   "source": [
    "%matplotlib inline\n",
    "import numpy as np\n",
    "import matplotlib.pyplot as plt\n",
    "import matplotlib \n",
    "matplotlib.rc('xtick', labelsize=14) \n",
    "matplotlib.rc('ytick', labelsize=14) "
   ]
  },
  {
   "cell_type": "markdown",
   "metadata": {},
   "source": [
    "# Figure 1"
   ]
  },
  {
   "cell_type": "code",
   "execution_count": null,
   "metadata": {
    "collapsed": true
   },
   "outputs": [],
   "source": [
    "import weak_sauce\n",
    "from weak_sauce.movers import UniformGaussianMover\n",
    "from weak_sauce.grid import MoveableGrid\n",
    "from weak_sauce.sources import Source\n",
    "\n",
    "saved_mg = MoveableGrid('../data/best_lsst_amp3_mg.pkl')\n",
    "ideal_src = Source(num_x=243,num_y=1723)\n",
    "test = Source(num_x=26)\n",
    "vert_devs = saved_mg.source.vertices-ideal_src.vertices\n",
    "area_devs = saved_mg.source.fluxes-ideal_src.fluxes-1\n",
    "test.vertices += 40*vert_devs[:26,:26,:]\n",
    "test.fluxes += 40*area_devs[:25,:25] + 1\n",
    "#flat=np.load('../data/data_rel_flux_map_50x50.npy')\n",
    "\n",
    "#mover = UniformGaussianMover(mu_x=0, mu_y=0, sigma_xx=0.01, sigma_yy=0.01, sigma_xy=0.0)\n",
    "#source = Source(num_x=25)\n",
    "#mg = MoveableGrid(source,mover)\n",
    "#mg.step()\n",
    "\n",
    "fig,ax = plt.subplots(figsize=(8,6))\n",
    "test.plot_real_grid(fig,ax,pcolormesh_kwargs_in={'linewidths':1,'antialiased':True})\n",
    "plt.xlabel('Pixel X',size=14)\n",
    "plt.ylabel('Pixel Y',size=14)\n",
    "ax.text(30.5,17,'Relative Pixel Area',rotation=90,size=14) #matplotlib's colorbar labeling is horrible"
   ]
  },
  {
   "cell_type": "code",
   "execution_count": 6,
   "metadata": {},
   "outputs": [
    {
     "data": {
      "text/plain": [
       "(243, 1723, 2)"
      ]
     },
     "execution_count": 6,
     "metadata": {},
     "output_type": "execute_result"
    }
   ],
   "source": [
    "saved_mg.source.vertices.shape"
   ]
  },
  {
   "cell_type": "code",
   "execution_count": 7,
   "metadata": {},
   "outputs": [
    {
     "data": {
      "text/plain": [
       "(26, 26)"
      ]
     },
     "execution_count": 7,
     "metadata": {},
     "output_type": "execute_result"
    }
   ],
   "source": [
    "test.vertices.shape"
   ]
  },
  {
   "cell_type": "code",
   "execution_count": null,
   "metadata": {
    "collapsed": true
   },
   "outputs": [],
   "source": []
  }
 ],
 "metadata": {
  "kernelspec": {
   "display_name": "Python 2",
   "language": "python",
   "name": "python2"
  },
  "language_info": {
   "codemirror_mode": {
    "name": "ipython",
    "version": 2
   },
   "file_extension": ".py",
   "mimetype": "text/x-python",
   "name": "python",
   "nbconvert_exporter": "python",
   "pygments_lexer": "ipython2",
   "version": "2.7.12"
  }
 },
 "nbformat": 4,
 "nbformat_minor": 1
}
