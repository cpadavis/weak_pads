{
 "cells": [
  {
   "cell_type": "code",
   "execution_count": 2,
   "metadata": {
    "collapsed": false
   },
   "outputs": [
    {
     "name": "stdout",
     "output_type": "stream",
     "text": [
      "['', '/Library/Frameworks/EPD64.framework/Versions/7.3/lib/python2.7/site-packages/pIDLy-0.2.4-py2.7.egg', '/Library/Frameworks/EPD64.framework/Versions/7.3/lib/python2.7/site-packages/pexpect-2.4-py2.7.egg', '/Library/Frameworks/EPD64.framework/Versions/7.3/lib/python2.7/site-packages/pywcsgrid2-0.1b2-py2.7.egg', '/Library/Frameworks/EPD64.framework/Versions/7.3/lib/python2.7/site-packages/CosmoloPy-0.1.104-py2.7-macosx-10.5-x86_64.egg', '/Library/Frameworks/EPD64.framework/Versions/7.3/lib/python2.7/site-packages/pyobjc-2.5.1-py2.7.egg', '/Library/Frameworks/EPD64.framework/Versions/7.3/lib/python2.7/site-packages/pyobjc_framework_Social-2.5.1-py2.7.egg', '/Library/Frameworks/EPD64.framework/Versions/7.3/lib/python2.7/site-packages/pyobjc_framework_EventKit-2.5.1-py2.7.egg', '/Library/Frameworks/EPD64.framework/Versions/7.3/lib/python2.7/site-packages/pyobjc_framework_Accounts-2.5.1-py2.7.egg', '/Library/Frameworks/EPD64.framework/Versions/7.3/lib/python2.7/site-packages/pyobjc_framework_ServiceManagement-2.5.1-py2.7.egg', '/Library/Frameworks/EPD64.framework/Versions/7.3/lib/python2.7/site-packages/pyobjc_framework_ServerNotification-2.5.1-py2.7.egg', '/Library/Frameworks/EPD64.framework/Versions/7.3/lib/python2.7/site-packages/pyobjc_framework_CoreLocation-2.5.1-py2.7-macosx-10.5-x86_64.egg', '/Library/Frameworks/EPD64.framework/Versions/7.3/lib/python2.7/site-packages/pyobjc_framework_AppleScriptObjC-2.5.1-py2.7.egg', '/Library/Frameworks/EPD64.framework/Versions/7.3/lib/python2.7/site-packages/pyobjc_framework_ScriptingBridge-2.5.1-py2.7-macosx-10.5-x86_64.egg', '/Library/Frameworks/EPD64.framework/Versions/7.3/lib/python2.7/site-packages/pyobjc_framework_QTKit-2.5.1-py2.7.egg', '/Library/Frameworks/EPD64.framework/Versions/7.3/lib/python2.7/site-packages/pyobjc_framework_PubSub-2.5.1-py2.7.egg', '/Library/Frameworks/EPD64.framework/Versions/7.3/lib/python2.7/site-packages/pyobjc_framework_InstantMessage-2.5.1-py2.7.egg', '/Library/Frameworks/EPD64.framework/Versions/7.3/lib/python2.7/site-packages/pyobjc_framework_InputMethodKit-2.5.1-py2.7-macosx-10.5-x86_64.egg', '/Library/Frameworks/EPD64.framework/Versions/7.3/lib/python2.7/site-packages/pyobjc_framework_DictionaryServices-2.5.1-py2.7.egg', '/Library/Frameworks/EPD64.framework/Versions/7.3/lib/python2.7/site-packages/pyobjc_framework_Collaboration-2.5.1-py2.7.egg', '/Library/Frameworks/EPD64.framework/Versions/7.3/lib/python2.7/site-packages/pyobjc_framework_CalendarStore-2.5.1-py2.7.egg', '/Library/Frameworks/EPD64.framework/Versions/7.3/lib/python2.7/site-packages/pyobjc_framework_WebKit-2.5.1-py2.7-macosx-10.5-x86_64.egg', '/Library/Frameworks/EPD64.framework/Versions/7.3/lib/python2.7/site-packages/pyobjc_framework_SystemConfiguration-2.5.1-py2.7-macosx-10.5-x86_64.egg', '/Library/Frameworks/EPD64.framework/Versions/7.3/lib/python2.7/site-packages/pyobjc_framework_SyncServices-2.5.1-py2.7-macosx-10.5-x86_64.egg', '/Library/Frameworks/EPD64.framework/Versions/7.3/lib/python2.7/site-packages/pyobjc_framework_SearchKit-2.5.1-py2.7.egg', '/Library/Frameworks/EPD64.framework/Versions/7.3/lib/python2.7/site-packages/pyobjc_framework_ScreenSaver-2.5.1-py2.7-macosx-10.5-x86_64.egg', '/Library/Frameworks/EPD64.framework/Versions/7.3/lib/python2.7/site-packages/pyobjc_framework_Quartz-2.5.1-py2.7-macosx-10.5-x86_64.egg', '/Library/Frameworks/EPD64.framework/Versions/7.3/lib/python2.7/site-packages/pyobjc_framework_PreferencePanes-2.5.1-py2.7.egg', '/Library/Frameworks/EPD64.framework/Versions/7.3/lib/python2.7/site-packages/pyobjc_framework_Message-2.5.1-py2.7.egg', '/Library/Frameworks/EPD64.framework/Versions/7.3/lib/python2.7/site-packages/pyobjc_framework_LaunchServices-2.5.1-py2.7.egg', '/Library/Frameworks/EPD64.framework/Versions/7.3/lib/python2.7/site-packages/pyobjc_framework_LatentSemanticMapping-2.5.1-py2.7.egg', '/Library/Frameworks/EPD64.framework/Versions/7.3/lib/python2.7/site-packages/pyobjc_framework_InstallerPlugins-2.5.1-py2.7.egg', '/Library/Frameworks/EPD64.framework/Versions/7.3/lib/python2.7/site-packages/pyobjc_framework_FSEvents-2.5.1-py2.7-macosx-10.5-x86_64.egg', '/Library/Frameworks/EPD64.framework/Versions/7.3/lib/python2.7/site-packages/pyobjc_framework_ExceptionHandling-2.5.1-py2.7.egg', '/Library/Frameworks/EPD64.framework/Versions/7.3/lib/python2.7/site-packages/pyobjc_framework_CoreText-2.5.1-py2.7-macosx-10.5-x86_64.egg', '/Library/Frameworks/EPD64.framework/Versions/7.3/lib/python2.7/site-packages/pyobjc_framework_CoreData-2.5.1-py2.7.egg', '/Library/Frameworks/EPD64.framework/Versions/7.3/lib/python2.7/site-packages/pyobjc_framework_Cocoa-2.5.1-py2.7-macosx-10.5-x86_64.egg', '/Library/Frameworks/EPD64.framework/Versions/7.3/lib/python2.7/site-packages/pyobjc_framework_CFNetwork-2.5.1-py2.7-macosx-10.5-x86_64.egg', '/Library/Frameworks/EPD64.framework/Versions/7.3/lib/python2.7/site-packages/pyobjc_framework_Automator-2.5.1-py2.7.egg', '/Library/Frameworks/EPD64.framework/Versions/7.3/lib/python2.7/site-packages/pyobjc_framework_AppleScriptKit-2.5.1-py2.7.egg', '/Library/Frameworks/EPD64.framework/Versions/7.3/lib/python2.7/site-packages/pyobjc_framework_AddressBook-2.5.1-py2.7-macosx-10.5-x86_64.egg', '/Library/Frameworks/EPD64.framework/Versions/7.3/lib/python2.7/site-packages/pyobjc_core-2.5.1-py2.7-macosx-10.5-x86_64.egg', '/Library/Frameworks/EPD64.framework/Versions/7.3/lib/python2.7/site-packages/decorator-3.4.0-py2.7.egg', '/Library/Frameworks/EPD64.framework/Versions/7.3/lib/python2.7/site-packages/pytest-2.3.5-py2.7.egg', '/Library/Frameworks/EPD64.framework/Versions/7.3/lib/python2.7/site-packages/pycuda-2013.1.1-py2.7-macosx-10.5-x86_64.egg', '/Library/Frameworks/EPD64.framework/Versions/7.3/lib/python2.7/site-packages/pip-1.2.1-py2.7.egg', '/Library/Frameworks/EPD64.framework/Versions/7.3/lib/python2.7/site-packages/mpld3-0.3git-py2.7.egg', '/Library/Frameworks/EPD64.framework/Versions/7.3/lib/python2.7/site-packages/ropevim-0.4.0-py2.7.egg', '/Library/Frameworks/EPD64.framework/Versions/7.3/lib/python2.7/site-packages/multipolyfit-0.0.1-py2.7.egg', '/Users/cpd/Projects/WavefrontPSF/code', '/Users/cpd/Dropbox/derp-ninja/root/lib', '/Users/cpd/Projects/weak_sauce/notebooks', '/Users/cpd/Projects/SpaceWarps/analysis', '/Users/cpd/Projects/cluster-z/code', '/Users/cpd/Projects/strongcnn/code', '/Users/cpd/Projects/weak_sauce/code', '/Library/Frameworks/EPD64.framework/Versions/7.3/lib/python27.zip', '/Library/Frameworks/EPD64.framework/Versions/7.3/lib/python2.7', '/Library/Frameworks/EPD64.framework/Versions/7.3/lib/python2.7/plat-darwin', '/Library/Frameworks/EPD64.framework/Versions/7.3/lib/python2.7/plat-mac', '/Library/Frameworks/EPD64.framework/Versions/7.3/lib/python2.7/plat-mac/lib-scriptpackages', '/Library/Frameworks/EPD64.framework/Versions/7.3/lib/python2.7/lib-tk', '/Library/Frameworks/EPD64.framework/Versions/7.3/lib/python2.7/lib-old', '/Library/Frameworks/EPD64.framework/Versions/7.3/lib/python2.7/lib-dynload', '/Users/cpd/Library/Python/2.7/lib/python/site-packages', '/usr/local/lib/python2.7/site-packages', '/Library/Frameworks/EPD64.framework/Versions/7.3/lib/python2.7/site-packages', '/Library/Frameworks/EPD64.framework/Versions/7.3/lib/python2.7/site-packages/PIL', '/Library/Python/2.7/site-packages', '/Library/Frameworks/EPD64.framework/Versions/7.3/lib/python2.7/site-packages/IPython/extensions', '/u/ki/mbaumer/random_pixel_size/weak_sauce/code']\n"
     ]
    }
   ],
   "source": [
    "#shenanigans so python finds weak_sauce module \n",
    "import sys\n",
    "sys.path.append('/u/ki/mbaumer/random_pixel_size/weak_sauce/code')\n",
    "print(sys.path)"
   ]
  },
  {
   "cell_type": "code",
   "execution_count": 45,
   "metadata": {
    "collapsed": false
   },
   "outputs": [],
   "source": [
    "%matplotlib inline\n",
    "import weak_sauce as ws\n",
    "import weak_sauce.data_tools\n",
    "import numpy as np\n",
    "import matplotlib.pyplot as plt\n",
    "from __future__ import division\n",
    "\n",
    "from weak_sauce.movers import UniformGaussianMover\n",
    "from weak_sauce.grid import MoveableGrid\n",
    "from weak_sauce.sources import Source\n",
    "from weak_sauce.movers import UniformIlluminationMover, FixedIlluminationMover\n",
    "from weak_sauce.fit_flat import FlatFitter\n",
    "\n",
    "def gauss(centroids, mu=np.array([0, 0]), sigma=np.array([1., 1.])):\n",
    "    return np.exp(-0.5 * np.sum(np.square((centroids - mu) / sigma), axis=2)) / \\\n",
    "           (2 * np.pi * np.prod(sigma))\n",
    "    \n",
    "import galsim"
   ]
  },
  {
   "cell_type": "code",
   "execution_count": 47,
   "metadata": {
    "collapsed": false
   },
   "outputs": [
    {
     "ename": "TypeError",
     "evalue": "bounds must be a galsim.BoundsI instance",
     "output_type": "error",
     "traceback": [
      "\u001b[0;31m---------------------------------------------------------------------------\u001b[0m",
      "\u001b[0;31mTypeError\u001b[0m                                 Traceback (most recent call last)",
      "\u001b[0;32m<ipython-input-47-8b9a8d94b125>\u001b[0m in \u001b[0;36m<module>\u001b[0;34m()\u001b[0m\n\u001b[1;32m      1\u001b[0m \u001b[0msrc1\u001b[0m \u001b[0;34m=\u001b[0m \u001b[0mSource\u001b[0m\u001b[0;34m(\u001b[0m\u001b[0mnum_x\u001b[0m\u001b[0;34m=\u001b[0m\u001b[0;36m51\u001b[0m\u001b[0;34m,\u001b[0m\u001b[0mflux_func\u001b[0m\u001b[0;34m=\u001b[0m\u001b[0mgauss\u001b[0m\u001b[0;34m,\u001b[0m\u001b[0msigma\u001b[0m\u001b[0;34m=\u001b[0m\u001b[0;36m3\u001b[0m\u001b[0;34m)\u001b[0m\u001b[0;34m\u001b[0m\u001b[0m\n\u001b[1;32m      2\u001b[0m \u001b[0mtest_galsim\u001b[0m \u001b[0;34m=\u001b[0m \u001b[0mgalsim\u001b[0m\u001b[0;34m.\u001b[0m\u001b[0mGaussian\u001b[0m\u001b[0;34m(\u001b[0m\u001b[0msigma\u001b[0m\u001b[0;34m=\u001b[0m\u001b[0;36m3\u001b[0m\u001b[0;34m,\u001b[0m\u001b[0mflux\u001b[0m\u001b[0;34m=\u001b[0m\u001b[0;36m3\u001b[0m\u001b[0;34m)\u001b[0m\u001b[0;34m\u001b[0m\u001b[0m\n\u001b[0;32m----> 3\u001b[0;31m \u001b[0msrc2\u001b[0m \u001b[0;34m=\u001b[0m \u001b[0mSource\u001b[0m\u001b[0;34m(\u001b[0m\u001b[0mnum_x\u001b[0m\u001b[0;34m=\u001b[0m\u001b[0;36m51\u001b[0m\u001b[0;34m,\u001b[0m\u001b[0mflux_func\u001b[0m\u001b[0;34m=\u001b[0m\u001b[0mtest_galsim\u001b[0m\u001b[0;34m)\u001b[0m\u001b[0;34m\u001b[0m\u001b[0m\n\u001b[0m\u001b[1;32m      4\u001b[0m \u001b[0msrc1\u001b[0m\u001b[0;34m.\u001b[0m\u001b[0mplot_pixel_grid\u001b[0m\u001b[0;34m(\u001b[0m\u001b[0;34m)\u001b[0m\u001b[0;34m\u001b[0m\u001b[0m\n\u001b[1;32m      5\u001b[0m \u001b[0msrc2\u001b[0m\u001b[0;34m.\u001b[0m\u001b[0mplot_pixel_grid\u001b[0m\u001b[0;34m(\u001b[0m\u001b[0;34m)\u001b[0m\u001b[0;34m\u001b[0m\u001b[0m\n",
      "\u001b[0;32m/Users/cpd/Projects/weak_sauce/code/weak_sauce/sources.py\u001b[0m in \u001b[0;36m__init__\u001b[0;34m(self, num_x, **kwargs)\u001b[0m\n\u001b[1;32m    142\u001b[0m \u001b[0;34m\u001b[0m\u001b[0m\n\u001b[1;32m    143\u001b[0m     \u001b[0;32mdef\u001b[0m \u001b[0m__init__\u001b[0m\u001b[0;34m(\u001b[0m\u001b[0mself\u001b[0m\u001b[0;34m,\u001b[0m \u001b[0mnum_x\u001b[0m\u001b[0;34m,\u001b[0m \u001b[0;34m**\u001b[0m\u001b[0mkwargs\u001b[0m\u001b[0;34m)\u001b[0m\u001b[0;34m:\u001b[0m\u001b[0;34m\u001b[0m\u001b[0m\n\u001b[0;32m--> 144\u001b[0;31m         \u001b[0mself\u001b[0m\u001b[0;34m.\u001b[0m\u001b[0mvertices\u001b[0m\u001b[0;34m,\u001b[0m \u001b[0mself\u001b[0m\u001b[0;34m.\u001b[0m\u001b[0mcentroids\u001b[0m\u001b[0;34m,\u001b[0m \u001b[0mself\u001b[0m\u001b[0;34m.\u001b[0m\u001b[0mfluxes\u001b[0m \u001b[0;34m=\u001b[0m \u001b[0minit_grid\u001b[0m\u001b[0;34m(\u001b[0m\u001b[0mnum_x\u001b[0m\u001b[0;34m,\u001b[0m \u001b[0;34m**\u001b[0m\u001b[0mkwargs\u001b[0m\u001b[0;34m)\u001b[0m\u001b[0;34m\u001b[0m\u001b[0m\n\u001b[0m\u001b[1;32m    145\u001b[0m \u001b[0;34m\u001b[0m\u001b[0m\n\u001b[1;32m    146\u001b[0m         \u001b[0;31m# this makes it easier to convert\u001b[0m\u001b[0;34m\u001b[0m\u001b[0;34m\u001b[0m\u001b[0m\n",
      "\u001b[0;32m/Users/cpd/Projects/weak_sauce/code/weak_sauce/sources.py\u001b[0m in \u001b[0;36minit_grid\u001b[0;34m(num_x, max_x, min_x, num_y, max_y, min_y, flux_func, **kwargs)\u001b[0m\n\u001b[1;32m     71\u001b[0m             \u001b[0mbounds\u001b[0m \u001b[0;34m=\u001b[0m \u001b[0;34m[\u001b[0m\u001b[0mmin_x\u001b[0m\u001b[0;34m,\u001b[0m \u001b[0mmin_y\u001b[0m\u001b[0;34m,\u001b[0m \u001b[0mmax_x\u001b[0m\u001b[0;34m,\u001b[0m \u001b[0mmax_y\u001b[0m\u001b[0;34m]\u001b[0m\u001b[0;34m\u001b[0m\u001b[0m\n\u001b[1;32m     72\u001b[0m             \u001b[0moffset\u001b[0m \u001b[0;34m=\u001b[0m \u001b[0mNone\u001b[0m\u001b[0;34m\u001b[0m\u001b[0m\n\u001b[0;32m---> 73\u001b[0;31m             \u001b[0mfluxes\u001b[0m \u001b[0;34m=\u001b[0m \u001b[0mflux_func\u001b[0m\u001b[0;34m.\u001b[0m\u001b[0mdrawImage\u001b[0m\u001b[0;34m(\u001b[0m\u001b[0mscale\u001b[0m\u001b[0;34m=\u001b[0m\u001b[0;36m1\u001b[0m\u001b[0;34m,\u001b[0m \u001b[0mbounds\u001b[0m\u001b[0;34m=\u001b[0m\u001b[0mbounds\u001b[0m\u001b[0;34m,\u001b[0m \u001b[0moffset\u001b[0m\u001b[0;34m=\u001b[0m\u001b[0moffset\u001b[0m\u001b[0;34m)\u001b[0m\u001b[0;34m.\u001b[0m\u001b[0marray\u001b[0m\u001b[0;34m\u001b[0m\u001b[0m\n\u001b[0m\u001b[1;32m     74\u001b[0m         \u001b[0;32melse\u001b[0m\u001b[0;34m:\u001b[0m\u001b[0;34m\u001b[0m\u001b[0m\n\u001b[1;32m     75\u001b[0m             \u001b[0;32mraise\u001b[0m \u001b[0mTypeError\u001b[0m\u001b[0;34m(\u001b[0m\u001b[0;34m'youve got galsim installed, but your flux_func still wasnt a function or a galsim GSObject'\u001b[0m\u001b[0;34m)\u001b[0m\u001b[0;34m\u001b[0m\u001b[0m\n",
      "\u001b[0;32m/Library/Frameworks/EPD64.framework/Versions/7.3/lib/python2.7/site-packages/galsim/base.py\u001b[0m in \u001b[0;36mdrawImage\u001b[0;34m(self, image, nx, ny, bounds, scale, wcs, dtype, method, gain, wmult, add_to_image, use_true_center, offset, n_photons, rng, max_extra_noise, poisson_flux, setup_only, dx)\u001b[0m\n\u001b[1;32m   1218\u001b[0m \u001b[0;34m\u001b[0m\u001b[0m\n\u001b[1;32m   1219\u001b[0m         \u001b[0;31m# Make sure image is setup correctly\u001b[0m\u001b[0;34m\u001b[0m\u001b[0;34m\u001b[0m\u001b[0m\n\u001b[0;32m-> 1220\u001b[0;31m         \u001b[0mimage\u001b[0m \u001b[0;34m=\u001b[0m \u001b[0mprof\u001b[0m\u001b[0;34m.\u001b[0m\u001b[0m_setup_image\u001b[0m\u001b[0;34m(\u001b[0m\u001b[0mimage\u001b[0m\u001b[0;34m,\u001b[0m \u001b[0mnx\u001b[0m\u001b[0;34m,\u001b[0m \u001b[0mny\u001b[0m\u001b[0;34m,\u001b[0m \u001b[0mbounds\u001b[0m\u001b[0;34m,\u001b[0m \u001b[0mwmult\u001b[0m\u001b[0;34m,\u001b[0m \u001b[0madd_to_image\u001b[0m\u001b[0;34m,\u001b[0m \u001b[0mdtype\u001b[0m\u001b[0;34m)\u001b[0m\u001b[0;34m\u001b[0m\u001b[0m\n\u001b[0m\u001b[1;32m   1221\u001b[0m         \u001b[0mimage\u001b[0m\u001b[0;34m.\u001b[0m\u001b[0mwcs\u001b[0m \u001b[0;34m=\u001b[0m \u001b[0mwcs\u001b[0m\u001b[0;34m\u001b[0m\u001b[0m\n\u001b[1;32m   1222\u001b[0m \u001b[0;34m\u001b[0m\u001b[0m\n",
      "\u001b[0;32m/Library/Frameworks/EPD64.framework/Versions/7.3/lib/python2.7/site-packages/galsim/base.py\u001b[0m in \u001b[0;36m_setup_image\u001b[0;34m(self, image, nx, ny, bounds, wmult, add_to_image, dtype)\u001b[0m\n\u001b[1;32m    761\u001b[0m                 \u001b[0;32mif\u001b[0m \u001b[0mnx\u001b[0m \u001b[0;32mis\u001b[0m \u001b[0;32mnot\u001b[0m \u001b[0mNone\u001b[0m \u001b[0;32mor\u001b[0m \u001b[0mny\u001b[0m \u001b[0;32mis\u001b[0m \u001b[0;32mnot\u001b[0m \u001b[0mNone\u001b[0m\u001b[0;34m:\u001b[0m\u001b[0;34m\u001b[0m\u001b[0m\n\u001b[1;32m    762\u001b[0m                     \u001b[0;32mraise\u001b[0m \u001b[0mValueError\u001b[0m\u001b[0;34m(\u001b[0m\u001b[0;34m\"Cannot set both bounds and (nx, ny)\"\u001b[0m\u001b[0;34m)\u001b[0m\u001b[0;34m\u001b[0m\u001b[0m\n\u001b[0;32m--> 763\u001b[0;31m                 \u001b[0mimage\u001b[0m \u001b[0;34m=\u001b[0m \u001b[0mgalsim\u001b[0m\u001b[0;34m.\u001b[0m\u001b[0mImage\u001b[0m\u001b[0;34m(\u001b[0m\u001b[0mbounds\u001b[0m\u001b[0;34m=\u001b[0m\u001b[0mbounds\u001b[0m\u001b[0;34m,\u001b[0m \u001b[0mdtype\u001b[0m\u001b[0;34m=\u001b[0m\u001b[0mdtype\u001b[0m\u001b[0;34m)\u001b[0m\u001b[0;34m\u001b[0m\u001b[0m\n\u001b[0m\u001b[1;32m    764\u001b[0m             \u001b[0;32melif\u001b[0m \u001b[0mnx\u001b[0m \u001b[0;32mis\u001b[0m \u001b[0;32mnot\u001b[0m \u001b[0mNone\u001b[0m \u001b[0;32mor\u001b[0m \u001b[0mny\u001b[0m \u001b[0;32mis\u001b[0m \u001b[0;32mnot\u001b[0m \u001b[0mNone\u001b[0m\u001b[0;34m:\u001b[0m\u001b[0;34m\u001b[0m\u001b[0m\n\u001b[1;32m    765\u001b[0m                 \u001b[0;32mif\u001b[0m \u001b[0mnx\u001b[0m \u001b[0;32mis\u001b[0m \u001b[0mNone\u001b[0m \u001b[0;32mor\u001b[0m \u001b[0mny\u001b[0m \u001b[0;32mis\u001b[0m \u001b[0mNone\u001b[0m\u001b[0;34m:\u001b[0m\u001b[0;34m\u001b[0m\u001b[0m\n",
      "\u001b[0;32m/Library/Frameworks/EPD64.framework/Versions/7.3/lib/python2.7/site-packages/galsim/image.py\u001b[0m in \u001b[0;36m__init__\u001b[0;34m(self, *args, **kwargs)\u001b[0m\n\u001b[1;32m    296\u001b[0m                 \u001b[0;32mraise\u001b[0m \u001b[0mTypeError\u001b[0m\u001b[0;34m(\u001b[0m\u001b[0;34m\"Cannot specify both bounds and image\"\u001b[0m\u001b[0;34m)\u001b[0m\u001b[0;34m\u001b[0m\u001b[0m\n\u001b[1;32m    297\u001b[0m             \u001b[0;32mif\u001b[0m \u001b[0;32mnot\u001b[0m \u001b[0misinstance\u001b[0m\u001b[0;34m(\u001b[0m\u001b[0mbounds\u001b[0m\u001b[0;34m,\u001b[0m \u001b[0mgalsim\u001b[0m\u001b[0;34m.\u001b[0m\u001b[0mBoundsI\u001b[0m\u001b[0;34m)\u001b[0m\u001b[0;34m:\u001b[0m\u001b[0;34m\u001b[0m\u001b[0m\n\u001b[0;32m--> 298\u001b[0;31m                 \u001b[0;32mraise\u001b[0m \u001b[0mTypeError\u001b[0m\u001b[0;34m(\u001b[0m\u001b[0;34m\"bounds must be a galsim.BoundsI instance\"\u001b[0m\u001b[0;34m)\u001b[0m\u001b[0;34m\u001b[0m\u001b[0m\n\u001b[0m\u001b[1;32m    299\u001b[0m             \u001b[0mself\u001b[0m\u001b[0;34m.\u001b[0m\u001b[0mimage\u001b[0m \u001b[0;34m=\u001b[0m \u001b[0m_galsim\u001b[0m\u001b[0;34m.\u001b[0m\u001b[0mImageAlloc\u001b[0m\u001b[0;34m[\u001b[0m\u001b[0mself\u001b[0m\u001b[0;34m.\u001b[0m\u001b[0mdtype\u001b[0m\u001b[0;34m]\u001b[0m\u001b[0;34m(\u001b[0m\u001b[0mbounds\u001b[0m\u001b[0;34m)\u001b[0m\u001b[0;34m\u001b[0m\u001b[0m\n\u001b[1;32m    300\u001b[0m             \u001b[0;32mif\u001b[0m \u001b[0minit_value\u001b[0m \u001b[0;32mis\u001b[0m \u001b[0;32mnot\u001b[0m \u001b[0mNone\u001b[0m\u001b[0;34m:\u001b[0m\u001b[0;34m\u001b[0m\u001b[0m\n",
      "\u001b[0;31mTypeError\u001b[0m: bounds must be a galsim.BoundsI instance"
     ]
    }
   ],
   "source": [
    "src1 = Source(num_x=51,flux_func=gauss,sigma=3)\n",
    "test_galsim = galsim.Gaussian(sigma=3,flux=3)\n",
    "src2 = Source(num_x=51,flux_func=test_galsim)\n",
    "src1.plot_pixel_grid()\n",
    "src2.plot_pixel_grid()\n",
    "src1.plot(src1.fluxes-src2.fluxes)"
   ]
  },
  {
   "cell_type": "markdown",
   "metadata": {
    "collapsed": false
   },
   "source": [
    "So the galsim gaussian object (with flux=3) matches the hand-coded gaussian flux_func to 1 part in 10^17, so we're good!"
   ]
  },
  {
   "cell_type": "markdown",
   "metadata": {},
   "source": [
    "##Alternative to flux measured by AdaptiveMoments: photutils"
   ]
  },
  {
   "cell_type": "code",
   "execution_count": 5,
   "metadata": {
    "collapsed": false
   },
   "outputs": [],
   "source": [
    "test_gauss = galsim.Gaussian(sigma=3,flux=2)\n",
    "test_gauss = test_gauss.shift(15,15)\n",
    "phot_src = Source(num_x=51,flux_func=test_gauss)"
   ]
  },
  {
   "cell_type": "code",
   "execution_count": 6,
   "metadata": {
    "collapsed": false
   },
   "outputs": [
    {
     "data": {
      "text/plain": [
       "(<matplotlib.figure.Figure at 0x1176e2650>,\n",
       " <matplotlib.axes.AxesSubplot at 0x11763ca90>)"
      ]
     },
     "execution_count": 6,
     "metadata": {},
     "output_type": "execute_result"
    },
    {
     "data": {
      "image/png": "[encoded data removed]",
      "text/plain": [
       "<matplotlib.figure.Figure at 0x1176e2650>"
      ]
     },
     "metadata": {},
     "output_type": "display_data"
    }
   ],
   "source": [
    "phot_src.plot_pixel_grid()"
   ]
  },
  {
   "cell_type": "code",
   "execution_count": 8,
   "metadata": {
    "collapsed": false
   },
   "outputs": [
    {
     "name": "stdout",
     "output_type": "stream",
     "text": [
      "   flux    Mx    My            e1            e2\n",
      "0     1  14.5  14.5 -4.350945e-10  9.596366e-12\n"
     ]
    },
    {
     "data": {
      "text/plain": [
       "1.9999989817297581"
      ]
     },
     "execution_count": 8,
     "metadata": {},
     "output_type": "execute_result"
    }
   ],
   "source": [
    "res = phot_src.evaluate_psf()\n",
    "print(res[['flux','Mx','My','e1','e2']])\n",
    "np.sum(phot_src.fluxes)"
   ]
  },
  {
   "cell_type": "markdown",
   "metadata": {
    "collapsed": false
   },
   "source": [
    "For some reason, the flux measured by adaptive moments is half the sum over all the pixels...but whatever; let's press on"
   ]
  },
  {
   "cell_type": "markdown",
   "metadata": {},
   "source": [
    "photutils seems interesting, but I'm not sure how many people will belive the numbers...let's go with sextractor for now. pysex is really old and poorly documented, but I can make sewpy do what I want with only a few extra lines..."
   ]
  },
  {
   "cell_type": "code",
   "execution_count": 9,
   "metadata": {
    "collapsed": false
   },
   "outputs": [
    {
     "ename": "ImportError",
     "evalue": "No module named sewpy",
     "output_type": "error",
     "traceback": [
      "\u001b[0;31m---------------------------------------------------------------------------\u001b[0m",
      "\u001b[0;31mImportError\u001b[0m                               Traceback (most recent call last)",
      "\u001b[0;32m<ipython-input-9-0a7e6c3483a7>\u001b[0m in \u001b[0;36m<module>\u001b[0;34m()\u001b[0m\n\u001b[0;32m----> 1\u001b[0;31m \u001b[0mphot_src\u001b[0m\u001b[0;34m.\u001b[0m\u001b[0mevaluate_sex\u001b[0m\u001b[0;34m(\u001b[0m\u001b[0;34m)\u001b[0m\u001b[0;34m\u001b[0m\u001b[0m\n\u001b[0m",
      "\u001b[0;32m/Users/cpd/Projects/weak_sauce/code/weak_sauce/sources.py\u001b[0m in \u001b[0;36mevaluate_sex\u001b[0;34m(self, params, config, sexpath, **kwargs)\u001b[0m\n\u001b[1;32m    179\u001b[0m \u001b[0;34m\u001b[0m\u001b[0m\n\u001b[1;32m    180\u001b[0m         \"\"\"\n\u001b[0;32m--> 181\u001b[0;31m         \u001b[0;32mimport\u001b[0m \u001b[0msewpy\u001b[0m\u001b[0;34m,\u001b[0m \u001b[0mos\u001b[0m\u001b[0;34m\u001b[0m\u001b[0m\n\u001b[0m\u001b[1;32m    182\u001b[0m         \u001b[0msew\u001b[0m \u001b[0;34m=\u001b[0m \u001b[0msewpy\u001b[0m\u001b[0;34m.\u001b[0m\u001b[0mSEW\u001b[0m\u001b[0;34m(\u001b[0m\u001b[0mparams\u001b[0m\u001b[0;34m=\u001b[0m\u001b[0mparams\u001b[0m\u001b[0;34m,\u001b[0m\u001b[0mconfig\u001b[0m\u001b[0;34m=\u001b[0m\u001b[0mconfig\u001b[0m\u001b[0;34m,\u001b[0m\u001b[0msexpath\u001b[0m\u001b[0;34m=\u001b[0m\u001b[0msexpath\u001b[0m\u001b[0;34m,\u001b[0m\u001b[0;34m**\u001b[0m\u001b[0mkwargs\u001b[0m\u001b[0;34m)\u001b[0m\u001b[0;34m\u001b[0m\u001b[0m\n\u001b[1;32m    183\u001b[0m         \u001b[0;32mfrom\u001b[0m \u001b[0mastropy\u001b[0m\u001b[0;34m.\u001b[0m\u001b[0mio\u001b[0m \u001b[0;32mimport\u001b[0m \u001b[0mfits\u001b[0m\u001b[0;34m\u001b[0m\u001b[0m\n",
      "\u001b[0;31mImportError\u001b[0m: No module named sewpy"
     ]
    }
   ],
   "source": [
    "phot_src.evaluate_sex()"
   ]
  },
  {
   "cell_type": "code",
   "execution_count": null,
   "metadata": {
    "collapsed": true
   },
   "outputs": [],
   "source": []
  },
  {
   "cell_type": "code",
   "execution_count": 14,
   "metadata": {
    "collapsed": false
   },
   "outputs": [
    {
     "name": "stdout",
     "output_type": "stream",
     "text": [
      " aperture_sum  xcenter [1]   ycenter [1] \n",
      "                                         \n",
      "------------- ------------- -------------\n",
      "1.97702425595 14.4999999987 14.4999999997\n"
     ]
    }
   ],
   "source": [
    "from photutils import CircularAperture\n",
    "from photutils import aperture_photometry\n",
    "apertures = CircularAperture((res['Mx'],res['My']), r=9.)\n",
    "phot_table = aperture_photometry(phot_src.fluxes, apertures)\n",
    "print phot_table"
   ]
  },
  {
   "cell_type": "code",
   "execution_count": 21,
   "metadata": {
    "collapsed": false
   },
   "outputs": [],
   "source": [
    "def sexArray(img):\n",
    "    \"\"\"\n",
    "    Run sextractor on a numpy array (or weak_sauce source) to do photometry.\n",
    "    \"\"\"\n",
    "    import sewpy, os\n",
    "    sew = sewpy.SEW(params=[\"X_IMAGE\", \"Y_IMAGE\", \"FLUX_AUTO\" , \"FLUX_ISO\", \"FLUX_ISOCOR\", \"FLAGS\"],\n",
    "            config={\"DETECT_MINAREA\":10, \"PHOT_FLUXFRAC\":\"0.3, 0.5, 0.8\"}, sexpath='/afs/slac/g/ki/software/local/bin/sex')\n",
    "    from astropy.io import fits\n",
    "    if type(img) == eval('np.ndarray'):\n",
    "        hdu = fits.PrimaryHDU(img)\n",
    "    elif hasattr(img,'fluxes'):\n",
    "        hdu = fits.PrimaryHDU(img.fluxes)\n",
    "    else:\n",
    "        raise TypeError('img should be either an numpy array or a weak_sauce source')\n",
    "    hdulist = fits.HDUList([hdu])\n",
    "    hdulist.writeto('temp.fits',clobber=True)\n",
    "    out = sew('temp.fits')\n",
    "    os.remove('temp.fits')\n",
    "    return out[\"table\"] # this is an astropy table."
   ]
  },
  {
   "cell_type": "markdown",
   "metadata": {},
   "source": [
    "##Testing galsim science impact edge cases"
   ]
  },
  {
   "cell_type": "code",
   "execution_count": 5,
   "metadata": {
    "collapsed": false
   },
   "outputs": [],
   "source": [
    "from weak_sauce.adaptive_moments.psf_evaluator import Moment_Evaluator\n",
    "\n",
    "full_amp_img = np.load('../data/lsst_ultraflat_75ke_amp3.npy')\n",
    "fitted = ws.data_tools.fitIlluminationVariation(full_amp_img)\n",
    "data_rel_flux_map = (full_amp_img-fitted)/fitted+1\n",
    "data_rel_flux_map = data_rel_flux_map[1000:1050,200:250]\n",
    "\n",
    "\n",
    "n_verts_x = 51"
   ]
  },
  {
   "cell_type": "code",
   "execution_count": 12,
   "metadata": {
    "collapsed": true
   },
   "outputs": [],
   "source": [
    "np.save('7th_order_LSST_50x50',data_rel_flux_map)"
   ]
  },
  {
   "cell_type": "code",
   "execution_count": 10,
   "metadata": {
    "collapsed": false
   },
   "outputs": [],
   "source": [
    "obj = galsim.Gaussian(sigma=3)\n",
    "obj = obj.shift(25,25)\n",
    "obj = obj.shear(e=.1,beta=galsim.Angle(20,galsim.degrees))"
   ]
  },
  {
   "cell_type": "code",
   "execution_count": 22,
   "metadata": {
    "collapsed": false
   },
   "outputs": [
    {
     "name": "stdout",
     "output_type": "stream",
     "text": [
      "X_IMAGE Y_IMAGE FLUX_AUTO FLUX_ISO FLUX_ISOCOR FLAGS\n",
      "  pix     pix       ct       ct         ct          \n",
      "------- ------- --------- -------- ----------- -----\n",
      "124.884 134.496  24.94639       25          25     8\n",
      "0    12.5\n",
      "Name: flux, dtype: float64\n"
     ]
    }
   ],
   "source": [
    "stationary_source = Source(num_x=5*(n_verts_x-1)+1, min_x=0, max_x=50, \\\n",
    "                                           flux_func=obj)\n",
    "print sexArray(stationary_source.fluxes)\n",
    "print stationary_source.evaluate_psf()['flux']"
   ]
  },
  {
   "cell_type": "code",
   "execution_count": 10,
   "metadata": {
    "collapsed": false
   },
   "outputs": [
    {
     "name": "stdout",
     "output_type": "stream",
     "text": [
      "Writing gridScienceImpact.py\n"
     ]
    }
   ],
   "source": [
    "%%writefile gridScienceImpact.py\n",
    "def doGridAna(param_vec):\n",
    "    import pandas as pd\n",
    "    import copy\n",
    "    import numpy as np\n",
    "    from weak_sauce.grid import MoveableGrid\n",
    "    from weak_sauce.sources import Source\n",
    "    from weak_sauce.movers import FixedIlluminationMover\n",
    "    \n",
    "    n_verts_x = 51\n",
    "    \n",
    "    saved_mg = MoveableGrid('../data/test100k_iter.pkl')\n",
    "    #flat=np.load('../data/data_rel_flux_map_50x50.npy')\n",
    "    flat=data_rel_flux_map\n",
    "    \n",
    "    res_df_list = []\n",
    "    ideal_df_list = []\n",
    "    \n",
    "    for params in param_vec:\n",
    "        res_df = pd.DataFrame()\n",
    "        ideal_df = pd.DataFrame()\n",
    "        for xctr in np.arange(23,25):\n",
    "            for yctr in np.arange(23,25):\n",
    "                #params: e, sigma, theta\n",
    "                obj = galsim.Gaussian(fwhm=params[1])\n",
    "                obj = obj.shift(xctr,yctr)\n",
    "                obj = obj.shear(e=params[0],beta=galsim.Angle(params[2],galsim.degrees))\n",
    "                temp = copy.deepcopy(saved_mg)\n",
    "                #source should be oversampled wrt pixels; hence the 5x\n",
    "                stationary_source = Source(num_x=5*(n_verts_x-1)+1, min_x=0, max_x=50, \\\n",
    "                                           flux_func=obj)\n",
    "                #stationary_source = Source(num_x=n_verts_x, flux_func=gauss, mu=(xctr,yctr),sigma=3) #non-oversampled\n",
    "                illuminator = FixedIlluminationMover(stationary_source)\n",
    "\n",
    "                ideal_grid = Source(num_x=n_verts_x)\n",
    "                ideal_mg = MoveableGrid(ideal_grid,illuminator)\n",
    "                ideal_mg.step()\n",
    "                ideal_res = ideal_mg.evaluate_psf()\n",
    "                ideal_df = ideal_df.append(ideal_res)\n",
    "\n",
    "                temp.source.fluxes -= 1\n",
    "                temp.source.psf_evaluator = Moment_Evaluator(num_iter_max = 1000)\n",
    "                mg = MoveableGrid(temp.source, illuminator)\n",
    "                mg.step()\n",
    "                mg.source.fluxes /= flat\n",
    "                fitted_res = mg.evaluate_psf()\n",
    "                res_df = res_df.append(fitted_res)\n",
    "        res_df[\"inputE\"] = params[0]\n",
    "        res_df[\"inputS\"] = params[1]\n",
    "        res_df[\"inputTheta\"] = params[2]\n",
    "        ideal_df[\"inputE\"] = params[0]\n",
    "        ideal_df[\"inputS\"] = params[1]\n",
    "        ideal_df[\"inputTheta\"] = params[2]\n",
    "        res_df_list.append(res_df)\n",
    "        ideal_df_list.append(ideal_df)\n",
    "    return res_df_list, ideal_df_list"
   ]
  },
  {
   "cell_type": "code",
   "execution_count": 8,
   "metadata": {
    "collapsed": false
   },
   "outputs": [],
   "source": [
    "param_vec = [(0,3,30),(.3,4,50)]"
   ]
  },
  {
   "cell_type": "code",
   "execution_count": 9,
   "metadata": {
    "collapsed": false
   },
   "outputs": [],
   "source": [
    "D1,D2 = doGridAna(param_vec)"
   ]
  },
  {
   "cell_type": "code",
   "execution_count": 53,
   "metadata": {
    "collapsed": false
   },
   "outputs": [
    {
     "data": {
      "text/html": [
       "<div>\n",
       "<table border=\"1\" class=\"dataframe\">\n",
       "  <thead>\n",
       "    <tr style=\"text-align: right;\">\n",
       "      <th></th>\n",
       "      <th>Mx</th>\n",
       "      <th>Mxx</th>\n",
       "      <th>Mxy</th>\n",
       "      <th>My</th>\n",
       "      <th>Myy</th>\n",
       "      <th>a4</th>\n",
       "      <th>delta1</th>\n",
       "      <th>delta2</th>\n",
       "      <th>e0</th>\n",
       "      <th>e0prime</th>\n",
       "      <th>...</th>\n",
       "      <th>x3</th>\n",
       "      <th>xy</th>\n",
       "      <th>xy2</th>\n",
       "      <th>y2</th>\n",
       "      <th>y3</th>\n",
       "      <th>zeta1</th>\n",
       "      <th>zeta2</th>\n",
       "      <th>inputE</th>\n",
       "      <th>inputS</th>\n",
       "      <th>inputTheta</th>\n",
       "    </tr>\n",
       "  </thead>\n",
       "  <tbody>\n",
       "    <tr>\n",
       "      <th>0</th>\n",
       "      <td>22.500177</td>\n",
       "      <td>1.707082</td>\n",
       "      <td>0.001490</td>\n",
       "      <td>22.499910</td>\n",
       "      <td>1.703861</td>\n",
       "      <td>-0.000482</td>\n",
       "      <td>0.000015</td>\n",
       "      <td>-0.000023</td>\n",
       "      <td>0.124329</td>\n",
       "      <td>0.248658</td>\n",
       "      <td>...</td>\n",
       "      <td>-0.000454</td>\n",
       "      <td>0.000745</td>\n",
       "      <td>-0.000408</td>\n",
       "      <td>0.851930</td>\n",
       "      <td>0.000526</td>\n",
       "      <td>-0.000017</td>\n",
       "      <td>0.000006</td>\n",
       "      <td>0.0</td>\n",
       "      <td>3</td>\n",
       "      <td>30</td>\n",
       "    </tr>\n",
       "    <tr>\n",
       "      <th>0</th>\n",
       "      <td>23.500575</td>\n",
       "      <td>1.704392</td>\n",
       "      <td>0.000927</td>\n",
       "      <td>22.500293</td>\n",
       "      <td>1.704078</td>\n",
       "      <td>-0.000103</td>\n",
       "      <td>-0.000046</td>\n",
       "      <td>-0.000020</td>\n",
       "      <td>0.124239</td>\n",
       "      <td>0.248477</td>\n",
       "      <td>...</td>\n",
       "      <td>-0.000830</td>\n",
       "      <td>0.000464</td>\n",
       "      <td>0.000497</td>\n",
       "      <td>0.852039</td>\n",
       "      <td>0.000747</td>\n",
       "      <td>-0.000007</td>\n",
       "      <td>0.000013</td>\n",
       "      <td>0.0</td>\n",
       "      <td>3</td>\n",
       "      <td>30</td>\n",
       "    </tr>\n",
       "    <tr>\n",
       "      <th>0</th>\n",
       "      <td>22.500435</td>\n",
       "      <td>1.707690</td>\n",
       "      <td>0.000070</td>\n",
       "      <td>23.499602</td>\n",
       "      <td>1.703224</td>\n",
       "      <td>0.000217</td>\n",
       "      <td>0.000028</td>\n",
       "      <td>0.000051</td>\n",
       "      <td>0.124328</td>\n",
       "      <td>0.248655</td>\n",
       "      <td>...</td>\n",
       "      <td>0.000071</td>\n",
       "      <td>0.000035</td>\n",
       "      <td>-0.000452</td>\n",
       "      <td>0.851612</td>\n",
       "      <td>-0.001234</td>\n",
       "      <td>-0.000007</td>\n",
       "      <td>-0.000016</td>\n",
       "      <td>0.0</td>\n",
       "      <td>3</td>\n",
       "      <td>30</td>\n",
       "    </tr>\n",
       "    <tr>\n",
       "      <th>0</th>\n",
       "      <td>23.501017</td>\n",
       "      <td>1.705290</td>\n",
       "      <td>0.001642</td>\n",
       "      <td>23.499924</td>\n",
       "      <td>1.703425</td>\n",
       "      <td>-0.000253</td>\n",
       "      <td>-0.000051</td>\n",
       "      <td>0.000070</td>\n",
       "      <td>0.124248</td>\n",
       "      <td>0.248495</td>\n",
       "      <td>...</td>\n",
       "      <td>-0.000594</td>\n",
       "      <td>0.000821</td>\n",
       "      <td>0.000673</td>\n",
       "      <td>0.851712</td>\n",
       "      <td>-0.001060</td>\n",
       "      <td>0.000002</td>\n",
       "      <td>-0.000004</td>\n",
       "      <td>0.0</td>\n",
       "      <td>3</td>\n",
       "      <td>30</td>\n",
       "    </tr>\n",
       "    <tr>\n",
       "      <th>0</th>\n",
       "      <td>26.914418</td>\n",
       "      <td>3.263758</td>\n",
       "      <td>0.897306</td>\n",
       "      <td>25.674796</td>\n",
       "      <td>2.948200</td>\n",
       "      <td>-0.000403</td>\n",
       "      <td>0.000022</td>\n",
       "      <td>-0.000021</td>\n",
       "      <td>0.226426</td>\n",
       "      <td>0.442892</td>\n",
       "      <td>...</td>\n",
       "      <td>0.006669</td>\n",
       "      <td>0.448653</td>\n",
       "      <td>0.001856</td>\n",
       "      <td>1.474100</td>\n",
       "      <td>0.001387</td>\n",
       "      <td>0.000168</td>\n",
       "      <td>0.000029</td>\n",
       "      <td>0.3</td>\n",
       "      <td>4</td>\n",
       "      <td>50</td>\n",
       "    </tr>\n",
       "    <tr>\n",
       "      <th>0</th>\n",
       "      <td>27.953973</td>\n",
       "      <td>3.271831</td>\n",
       "      <td>0.895585</td>\n",
       "      <td>25.828128</td>\n",
       "      <td>2.949634</td>\n",
       "      <td>-0.001507</td>\n",
       "      <td>-0.000073</td>\n",
       "      <td>-0.000142</td>\n",
       "      <td>0.226772</td>\n",
       "      <td>0.443625</td>\n",
       "      <td>...</td>\n",
       "      <td>-0.000166</td>\n",
       "      <td>0.447793</td>\n",
       "      <td>0.001177</td>\n",
       "      <td>1.474817</td>\n",
       "      <td>0.000709</td>\n",
       "      <td>0.000020</td>\n",
       "      <td>-0.000029</td>\n",
       "      <td>0.3</td>\n",
       "      <td>4</td>\n",
       "      <td>50</td>\n",
       "    </tr>\n",
       "    <tr>\n",
       "      <th>0</th>\n",
       "      <td>27.067978</td>\n",
       "      <td>3.263310</td>\n",
       "      <td>0.899791</td>\n",
       "      <td>26.659715</td>\n",
       "      <td>2.949767</td>\n",
       "      <td>0.000096</td>\n",
       "      <td>0.000138</td>\n",
       "      <td>-0.000014</td>\n",
       "      <td>0.226467</td>\n",
       "      <td>0.442924</td>\n",
       "      <td>...</td>\n",
       "      <td>0.005158</td>\n",
       "      <td>0.449895</td>\n",
       "      <td>-0.000624</td>\n",
       "      <td>1.474884</td>\n",
       "      <td>0.000290</td>\n",
       "      <td>0.000089</td>\n",
       "      <td>0.000003</td>\n",
       "      <td>0.3</td>\n",
       "      <td>4</td>\n",
       "      <td>50</td>\n",
       "    </tr>\n",
       "    <tr>\n",
       "      <th>0</th>\n",
       "      <td>28.107254</td>\n",
       "      <td>3.268642</td>\n",
       "      <td>0.897421</td>\n",
       "      <td>26.813317</td>\n",
       "      <td>2.948831</td>\n",
       "      <td>-0.000478</td>\n",
       "      <td>0.000037</td>\n",
       "      <td>-0.000188</td>\n",
       "      <td>0.226627</td>\n",
       "      <td>0.443292</td>\n",
       "      <td>...</td>\n",
       "      <td>-0.000886</td>\n",
       "      <td>0.448710</td>\n",
       "      <td>-0.000921</td>\n",
       "      <td>1.474416</td>\n",
       "      <td>-0.000845</td>\n",
       "      <td>-0.000036</td>\n",
       "      <td>-0.000085</td>\n",
       "      <td>0.3</td>\n",
       "      <td>4</td>\n",
       "      <td>50</td>\n",
       "    </tr>\n",
       "  </tbody>\n",
       "</table>\n",
       "<p>8 rows × 33 columns</p>\n",
       "</div>"
      ],
      "text/plain": [
       "          Mx       Mxx       Mxy         My       Myy        a4    delta1  \\\n",
       "0  22.500177  1.707082  0.001490  22.499910  1.703861 -0.000482  0.000015   \n",
       "0  23.500575  1.704392  0.000927  22.500293  1.704078 -0.000103 -0.000046   \n",
       "0  22.500435  1.707690  0.000070  23.499602  1.703224  0.000217  0.000028   \n",
       "0  23.501017  1.705290  0.001642  23.499924  1.703425 -0.000253 -0.000051   \n",
       "0  26.914418  3.263758  0.897306  25.674796  2.948200 -0.000403  0.000022   \n",
       "0  27.953973  3.271831  0.895585  25.828128  2.949634 -0.001507 -0.000073   \n",
       "0  27.067978  3.263310  0.899791  26.659715  2.949767  0.000096  0.000138   \n",
       "0  28.107254  3.268642  0.897421  26.813317  2.948831 -0.000478  0.000037   \n",
       "\n",
       "     delta2        e0   e0prime     ...            x3        xy       xy2  \\\n",
       "0 -0.000023  0.124329  0.248658     ...     -0.000454  0.000745 -0.000408   \n",
       "0 -0.000020  0.124239  0.248477     ...     -0.000830  0.000464  0.000497   \n",
       "0  0.000051  0.124328  0.248655     ...      0.000071  0.000035 -0.000452   \n",
       "0  0.000070  0.124248  0.248495     ...     -0.000594  0.000821  0.000673   \n",
       "0 -0.000021  0.226426  0.442892     ...      0.006669  0.448653  0.001856   \n",
       "0 -0.000142  0.226772  0.443625     ...     -0.000166  0.447793  0.001177   \n",
       "0 -0.000014  0.226467  0.442924     ...      0.005158  0.449895 -0.000624   \n",
       "0 -0.000188  0.226627  0.443292     ...     -0.000886  0.448710 -0.000921   \n",
       "\n",
       "         y2        y3     zeta1     zeta2  inputE  inputS  inputTheta  \n",
       "0  0.851930  0.000526 -0.000017  0.000006     0.0       3          30  \n",
       "0  0.852039  0.000747 -0.000007  0.000013     0.0       3          30  \n",
       "0  0.851612 -0.001234 -0.000007 -0.000016     0.0       3          30  \n",
       "0  0.851712 -0.001060  0.000002 -0.000004     0.0       3          30  \n",
       "0  1.474100  0.001387  0.000168  0.000029     0.3       4          50  \n",
       "0  1.474817  0.000709  0.000020 -0.000029     0.3       4          50  \n",
       "0  1.474884  0.000290  0.000089  0.000003     0.3       4          50  \n",
       "0  1.474416 -0.000845 -0.000036 -0.000085     0.3       4          50  \n",
       "\n",
       "[8 rows x 33 columns]"
      ]
     },
     "execution_count": 53,
     "metadata": {},
     "output_type": "execute_result"
    }
   ],
   "source": [
    "import pandas as pd\n",
    "pd.concat(D1)"
   ]
  },
  {
   "cell_type": "code",
   "execution_count": null,
   "metadata": {
    "collapsed": true
   },
   "outputs": [],
   "source": []
  }
 ],
 "metadata": {
  "kernelspec": {
   "display_name": "Python 2",
   "language": "python",
   "name": "python2"
  },
  "language_info": {
   "codemirror_mode": {
    "name": "ipython",
    "version": 2
   },
   "file_extension": ".py",
   "mimetype": "text/x-python",
   "name": "python",
   "nbconvert_exporter": "python",
   "pygments_lexer": "ipython2",
   "version": "2.7.3"
  }
 },
 "nbformat": 4,
 "nbformat_minor": 0
}
