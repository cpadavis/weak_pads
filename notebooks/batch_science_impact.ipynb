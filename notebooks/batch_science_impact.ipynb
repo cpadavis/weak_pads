{
 "cells": [
  {
   "cell_type": "markdown",
   "metadata": {},
   "source": [
    "##Assessing Science impact of PSV in LSST sensors\n",
    "\n",
    "To assess the science impact of pixel size variation in LSST sensors, we will need to lay down sources with the following varying properties:\n",
    "- focal plane position ( x in [50,3950]; y in [50,3950] with half-pixel step size\n",
    "- ellipticity of source ( e in [0,1])\n",
    "- orientation of source (theta in [0,180 degrees])"
   ]
  },
  {
   "cell_type": "markdown",
   "metadata": {},
   "source": [
    "##Setting up ipcluster controller\n",
    "After manually start cluster in \"clusters\" tab on home page"
   ]
  },
  {
   "cell_type": "code",
   "execution_count": 72,
   "metadata": {
    "collapsed": false,
    "scrolled": true
   },
   "outputs": [
    {
     "name": "stdout",
     "output_type": "stream",
     "text": [
      "JOBID   USER    STAT  QUEUE      FROM_HOST   EXEC_HOST   JOB_NAME   SUBMIT_TIME\r\n",
      "2224    mbaumer RUN   long       ki-ls09     hequ0012    *ontroller Jul 31 11:03\r\n",
      "2233    mbaumer SSUSP long       ki-ls09     hequ0014    *engine[1] Jul 31 11:03\r\n",
      "2233    mbaumer SSUSP long       ki-ls09     hequ0017    *engine[2] Jul 31 11:03\r\n",
      "2233    mbaumer RUN   long       ki-ls09     fell0056    *engine[3] Jul 31 11:03\r\n",
      "2233    mbaumer SSUSP long       ki-ls09     hequ0020    *engine[4] Jul 31 11:03\r\n",
      "2233    mbaumer RUN   long       ki-ls09     hequ0022    *engine[5] Jul 31 11:03\r\n",
      "2233    mbaumer SSUSP long       ki-ls09     hequ0027    *engine[6] Jul 31 11:03\r\n",
      "2233    mbaumer RUN   long       ki-ls09     hequ0029    *engine[7] Jul 31 11:03\r\n",
      "2233    mbaumer SSUSP long       ki-ls09     hequ0120    *engine[8] Jul 31 11:03\r\n",
      "2233    mbaumer SSUSP long       ki-ls09     hequ0033    *engine[9] Jul 31 11:03\r\n",
      "2233    mbaumer RUN   long       ki-ls09     fell0269    *ngine[10] Jul 31 11:03\r\n",
      "2233    mbaumer SSUSP long       ki-ls09     hequ0130    *ngine[11] Jul 31 11:03\r\n",
      "2233    mbaumer RUN   long       ki-ls09     hequ0132    *ngine[12] Jul 31 11:03\r\n",
      "2233    mbaumer RUN   long       ki-ls09     hequ0041    *ngine[13] Jul 31 11:03\r\n",
      "2233    mbaumer SSUSP long       ki-ls09     hequ0045    *ngine[14] Jul 31 11:03\r\n",
      "2233    mbaumer RUN   long       ki-ls09     hequ0049    *ngine[15] Jul 31 11:03\r\n",
      "2233    mbaumer RUN   long       ki-ls09     hequ0054    *ngine[16] Jul 31 11:03\r\n",
      "2233    mbaumer RUN   long       ki-ls09     hequ0071    *ngine[17] Jul 31 11:03\r\n",
      "2233    mbaumer RUN   long       ki-ls09     hequ0085    *ngine[18] Jul 31 11:03\r\n",
      "2233    mbaumer RUN   long       ki-ls09     fell0302    *ngine[19] Jul 31 11:03\r\n",
      "2233    mbaumer RUN   long       ki-ls09     fell0035    *ngine[20] Jul 31 11:03\r\n",
      "2233    mbaumer RUN   long       ki-ls09     hequ0128    *ngine[21] Jul 31 11:03\r\n",
      "2233    mbaumer RUN   long       ki-ls09     hequ0128    *ngine[22] Jul 31 11:03\r\n",
      "2233    mbaumer SSUSP long       ki-ls09     hequ0038    *ngine[23] Jul 31 11:03\r\n",
      "2233    mbaumer SSUSP long       ki-ls09     hequ0038    *ngine[24] Jul 31 11:03\r\n",
      "2233    mbaumer RUN   long       ki-ls09     hequ0139    *ngine[25] Jul 31 11:03\r\n",
      "2233    mbaumer RUN   long       ki-ls09     hequ0139    *ngine[26] Jul 31 11:03\r\n",
      "2233    mbaumer RUN   long       ki-ls09     hequ0143    *ngine[27] Jul 31 11:03\r\n",
      "2233    mbaumer RUN   long       ki-ls09     hequ0143    *ngine[28] Jul 31 11:03\r\n",
      "2233    mbaumer RUN   long       ki-ls09     hequ0145    *ngine[29] Jul 31 11:03\r\n",
      "2233    mbaumer RUN   long       ki-ls09     hequ0145    *ngine[30] Jul 31 11:03\r\n",
      "2233    mbaumer RUN   long       ki-ls09     fell0182    *ngine[31] Jul 31 11:03\r\n",
      "2233    mbaumer RUN   long       ki-ls09     fell0182    *ngine[32] Jul 31 11:03\r\n",
      "2233    mbaumer RUN   long       ki-ls09     hequ0051    *ngine[33] Jul 31 11:03\r\n",
      "2233    mbaumer SSUSP long       ki-ls09     hequ0051    *ngine[34] Jul 31 11:03\r\n",
      "2233    mbaumer RUN   long       ki-ls09     hequ0060    *ngine[35] Jul 31 11:03\r\n",
      "2233    mbaumer RUN   long       ki-ls09     hequ0074    *ngine[36] Jul 31 11:03\r\n",
      "2233    mbaumer RUN   long       ki-ls09     hequ0074    *ngine[37] Jul 31 11:03\r\n",
      "2233    mbaumer RUN   long       ki-ls09     hequ0076    *ngine[38] Jul 31 11:03\r\n",
      "2233    mbaumer RUN   long       ki-ls09     hequ0174    *ngine[39] Jul 31 11:03\r\n",
      "2233    mbaumer RUN   long       ki-ls09     hequ0174    *ngine[40] Jul 31 11:03\r\n",
      "2233    mbaumer RUN   long       ki-ls09     hequ0084    *ngine[41] Jul 31 11:03\r\n",
      "2233    mbaumer RUN   long       ki-ls09     hequ0084    *ngine[42] Jul 31 11:03\r\n",
      "2233    mbaumer RUN   long       ki-ls09     hequ0090    *ngine[43] Jul 31 11:03\r\n",
      "2233    mbaumer SSUSP long       ki-ls09     hequ0090    *ngine[44] Jul 31 11:03\r\n",
      "2233    mbaumer RUN   long       ki-ls09     hequ0091    *ngine[45] Jul 31 11:03\r\n",
      "2233    mbaumer RUN   long       ki-ls09     hequ0094    *ngine[46] Jul 31 11:03\r\n",
      "2233    mbaumer RUN   long       ki-ls09     hequ0099    *ngine[47] Jul 31 11:03\r\n",
      "2233    mbaumer RUN   long       ki-ls09     fell0123    *ngine[48] Jul 31 11:03\r\n",
      "2233    mbaumer RUN   long       ki-ls09     fell0123    *ngine[49] Jul 31 11:03\r\n",
      "2233    mbaumer RUN   long       ki-ls09     hequ0190    *ngine[50] Jul 31 11:03\r\n"
     ]
    }
   ],
   "source": [
    "!bjobs"
   ]
  },
  {
   "cell_type": "code",
   "execution_count": 46,
   "metadata": {
    "collapsed": false
   },
   "outputs": [
    {
     "data": {
      "text/plain": [
       "52"
      ]
     },
     "execution_count": 46,
     "metadata": {},
     "output_type": "execute_result"
    }
   ],
   "source": [
    "a = !bjobs\n",
    "len(a)"
   ]
  },
  {
   "cell_type": "code",
   "execution_count": 73,
   "metadata": {
    "collapsed": false
   },
   "outputs": [
    {
     "name": "stdout",
     "output_type": "stream",
     "text": [
      "Now controlling 16 workers on LSF farm\n",
      "['hequ0132', 'hequ0174', 'hequ0174', 'hequ0085', 'hequ0190', 'hequ0128', 'fell0302', 'fell0182', 'fell0182', 'hequ0139', 'hequ0022', 'fell0123', 'fell0123', 'fell0035', 'fell0269', 'fell0056']\n"
     ]
    }
   ],
   "source": [
    "profile=\"lsf_parallel\" # \"wakari\" will use ssh to remote nodes - change to \"default\" if necessary\n",
    "from IPython.parallel import *\n",
    "client = Client(profile=profile)\n",
    "N_nodes = len(client.ids)\n",
    "print 'Now controlling ' + str(N_nodes) + ' workers on LSF farm'\n",
    "least_busy = client.load_balanced_view()\n",
    "all_workers = client[:]\n",
    "least_busy.block = False\n",
    "all_workers.block   = False\n",
    "\n",
    "def checkhostname():\n",
    "    import socket\n",
    "    return socket.gethostname()\n",
    "\n",
    "hostnames = all_workers.apply(checkhostname)\n",
    "print hostnames.get()"
   ]
  },
  {
   "cell_type": "code",
   "execution_count": 8,
   "metadata": {
    "collapsed": false
   },
   "outputs": [],
   "source": [
    "import itertools\n",
    "import numpy as np\n",
    "evec = np.arange(0,.91,.1)\n",
    "svec = np.arange(2,6.1,1)\n",
    "tvec = np.arange(0,90.1,45)\n",
    "param_vec = [item for item in itertools.product(evec,svec,tvec)]\n",
    "local_str = 'I live on local'\n",
    "\n",
    "@all_workers.parallel(block=True)\n",
    "def runAna(param_vec):\n",
    "    import numpy as np\n",
    "    out = []\n",
    "    for pars in param_vec:\n",
    "        out.append(np.array(pars)**3)\n",
    "    return out\n",
    "\n",
    "#all_workers.scatter('param_vec',param_vec)"
   ]
  },
  {
   "cell_type": "code",
   "execution_count": 9,
   "metadata": {
    "collapsed": false
   },
   "outputs": [
    {
     "data": {
      "text/plain": [
       "150"
      ]
     },
     "execution_count": 9,
     "metadata": {},
     "output_type": "execute_result"
    }
   ],
   "source": [
    "len(param_vec)"
   ]
  },
  {
   "cell_type": "code",
   "execution_count": 77,
   "metadata": {
    "collapsed": true
   },
   "outputs": [],
   "source": [
    "#param_vec = [[0,2,0],[.1,3,45]]"
   ]
  },
  {
   "cell_type": "code",
   "execution_count": 35,
   "metadata": {
    "collapsed": false
   },
   "outputs": [],
   "source": [
    "def doGridAna(params):\n",
    "    import sys\n",
    "    sys.path.append('/u/ki/mbaumer/random_pixel_size/weak_sauce/code')\n",
    "    import pandas as pd\n",
    "    import copy\n",
    "    import numpy as np\n",
    "    from weak_sauce.grid import MoveableGrid\n",
    "    from weak_sauce.sources import Source\n",
    "    from weak_sauce.movers import FixedIlluminationMover\n",
    "    import galsim\n",
    "\n",
    "\n",
    "    n_verts_x = 51\n",
    "\n",
    "    saved_mg = MoveableGrid('../data/test100k_iter.pkl')\n",
    "    #flat=np.load('../data/data_rel_flux_map_50x50.npy')\n",
    "    flat=np.load('7th_order_LSST_50x50.npy')\n",
    "\n",
    "    res_df_list = []\n",
    "    ideal_df_list = []\n",
    "\n",
    "\n",
    "    res_df = pd.DataFrame()\n",
    "    ideal_df = pd.DataFrame()\n",
    "    for xctr in np.arange(20,30):\n",
    "        for yctr in np.arange(20,30):\n",
    "            #params: e, sigma, theta\n",
    "            obj = galsim.Gaussian(fwhm=params[1])\n",
    "            obj = obj.shift(xctr,yctr)\n",
    "            obj = obj.shear(e=params[0],beta=galsim.Angle(params[2],galsim.degrees))\n",
    "            temp = copy.deepcopy(saved_mg)\n",
    "            #source should be oversampled wrt pixels; hence the 5x\n",
    "            stationary_source = Source(num_x=5*(n_verts_x-1)+1, min_x=0, max_x=50, \\\n",
    "                                       flux_func=obj)\n",
    "            #stationary_source = Source(num_x=n_verts_x, flux_func=gauss, mu=(xctr,yctr),sigma=3) #non-oversampled\n",
    "            illuminator = FixedIlluminationMover(stationary_source)\n",
    "\n",
    "            ideal_grid = Source(num_x=n_verts_x)\n",
    "            ideal_mg = MoveableGrid(ideal_grid,illuminator)\n",
    "            ideal_mg.step()\n",
    "            ideal_res = ideal_mg.evaluate_psf()\n",
    "            ideal_sex_flux = ideal_mg.evaluate_sex()['FLUX_AUTO']\n",
    "            ideal_res['FLUX_AUTO'] = ideal_sex_flux\n",
    "            ideal_df = ideal_df.append(ideal_res)\n",
    "\n",
    "            temp.source.fluxes -= 1\n",
    "            #temp.source.psf_evaluator = Moment_Evaluator(num_iter_max = 1000)\n",
    "            mg = MoveableGrid(temp.source, illuminator)\n",
    "            mg.step()\n",
    "            mg.source.fluxes /= flat\n",
    "            fitted_res = mg.evaluate_psf()\n",
    "            sex_flux = mg.evaluate_sex()['FLUX_AUTO']\n",
    "            fitted_res['FLUX_AUTO'] = sex_flux\n",
    "            res_df = res_df.append(fitted_res)\n",
    "    res_df[\"inputE\"] = params[0]\n",
    "    res_df[\"inputS\"] = params[1]\n",
    "    res_df[\"inputTheta\"] = params[2]\n",
    "    ideal_df[\"inputE\"] = params[0]\n",
    "    ideal_df[\"inputS\"] = params[1]\n",
    "    ideal_df[\"inputTheta\"] = params[2]\n",
    "    res_df_list.append(res_df)\n",
    "    ideal_df_list.append(ideal_df)\n",
    "    return res_df_list, ideal_df_list"
   ]
  },
  {
   "cell_type": "code",
   "execution_count": 36,
   "metadata": {
    "collapsed": false
   },
   "outputs": [],
   "source": [
    "out = least_busy.map(doGridAna,param_vec,block=False,chunksize=1)"
   ]
  },
  {
   "cell_type": "code",
   "execution_count": 61,
   "metadata": {
    "collapsed": false
   },
   "outputs": [
    {
     "data": {
      "text/plain": [
       "150"
      ]
     },
     "execution_count": 61,
     "metadata": {},
     "output_type": "execute_result"
    }
   ],
   "source": [
    "out.progress"
   ]
  },
  {
   "cell_type": "code",
   "execution_count": 62,
   "metadata": {
    "collapsed": false
   },
   "outputs": [
    {
     "name": "stdout",
     "output_type": "stream",
     "text": [
      "Everything Worked!\n"
     ]
    }
   ],
   "source": [
    "if out.ready():\n",
    "    if out.successful():\n",
    "        print 'Everything Worked!'\n",
    "    else:\n",
    "        print 'Done, but something fucked up'\n",
    "else:\n",
    "    print 'Not ready yet...'"
   ]
  },
  {
   "cell_type": "code",
   "execution_count": 63,
   "metadata": {
    "collapsed": false
   },
   "outputs": [],
   "source": [
    "df = out.get()"
   ]
  },
  {
   "cell_type": "code",
   "execution_count": 81,
   "metadata": {
    "collapsed": false
   },
   "outputs": [
    {
     "data": {
      "text/plain": [
       "pandas.core.frame.DataFrame"
      ]
     },
     "execution_count": 81,
     "metadata": {},
     "output_type": "execute_result"
    }
   ],
   "source": [
    "a = df[0]\n",
    "type(a[0][0])"
   ]
  },
  {
   "cell_type": "code",
   "execution_count": 83,
   "metadata": {
    "collapsed": false
   },
   "outputs": [],
   "source": [
    "import pandas as pd\n",
    "end_res = pd.DataFrame()\n",
    "for i in np.arange(len(df)):\n",
    "    current = df[i]\n",
    "    temp = current[0][0]-current[1][0] #fitted-ideal\n",
    "    temp['inputE'] = current[0][0]['inputE']\n",
    "    temp['inputS'] = current[0][0]['inputS']\n",
    "    temp['inputTheta'] = current[0][0]['inputTheta']\n",
    "    end_res = end_res.append(temp)"
   ]
  },
  {
   "cell_type": "code",
   "execution_count": 118,
   "metadata": {
    "collapsed": false
   },
   "outputs": [
    {
     "data": {
      "text/plain": [
       "Index([u'Mx', u'Mxx', u'Mxy', u'My', u'Myy', u'a4', u'delta1', u'delta2',\n",
       "       u'e0', u'e0prime', u'e1', u'e2', u'flux', u'fwhm', u'phi', u'w', u'w1',\n",
       "       u'w2', u'wd1', u'wd2', u'whisker', u'x2', u'x2y', u'x3', u'xy', u'xy2',\n",
       "       u'y2', u'y3', u'zeta1', u'zeta2', u'inputE', u'inputS', u'inputTheta'],\n",
       "      dtype='object')"
      ]
     },
     "execution_count": 118,
     "metadata": {},
     "output_type": "execute_result"
    }
   ],
   "source": [
    "end_res.columns"
   ]
  },
  {
   "cell_type": "code",
   "execution_count": 116,
   "metadata": {
    "collapsed": false
   },
   "outputs": [
    {
     "ename": "KeyboardInterrupt",
     "evalue": "",
     "output_type": "error",
     "traceback": [
      "\u001b[1;31m---------------------------------------------------------------------------\u001b[0m",
      "\u001b[1;31mKeyboardInterrupt\u001b[0m                         Traceback (most recent call last)",
      "\u001b[1;32m<ipython-input-116-d8a1e05b842e>\u001b[0m in \u001b[0;36m<module>\u001b[1;34m()\u001b[0m\n\u001b[1;32m----> 1\u001b[1;33m \u001b[0mfeat\u001b[0m\u001b[1;33m[\u001b[0m\u001b[1;34m'flux'\u001b[0m\u001b[1;33m]\u001b[0m \u001b[1;33m=\u001b[0m \u001b[0mend_res\u001b[0m\u001b[1;33m[\u001b[0m\u001b[1;34m'flux'\u001b[0m\u001b[1;33m]\u001b[0m\u001b[1;33m/\u001b[0m\u001b[1;33m(\u001b[0m\u001b[1;36m.001\u001b[0m\u001b[1;33m*\u001b[0m\u001b[0mnp\u001b[0m\u001b[1;33m.\u001b[0m\u001b[0mlog\u001b[0m\u001b[1;33m(\u001b[0m\u001b[1;36m10\u001b[0m\u001b[1;33m)\u001b[0m\u001b[1;33m/\u001b[0m\u001b[1;36m2.5\u001b[0m\u001b[1;33m)\u001b[0m \u001b[1;31m#convert to mMags\u001b[0m\u001b[1;33m\u001b[0m\u001b[0m\n\u001b[0m\u001b[0;32m      2\u001b[0m \u001b[0mfeat\u001b[0m\u001b[1;33m[\u001b[0m\u001b[1;33m[\u001b[0m\u001b[1;34m'Mx'\u001b[0m\u001b[1;33m,\u001b[0m\u001b[1;34m'My'\u001b[0m\u001b[1;33m]\u001b[0m\u001b[1;33m]\u001b[0m \u001b[1;33m=\u001b[0m \u001b[1;36m200\u001b[0m\u001b[1;33m*\u001b[0m\u001b[0mend_res\u001b[0m\u001b[1;33m[\u001b[0m\u001b[1;33m[\u001b[0m\u001b[1;34m'Mx'\u001b[0m\u001b[1;33m,\u001b[0m\u001b[1;34m'My'\u001b[0m\u001b[1;33m]\u001b[0m\u001b[1;33m]\u001b[0m\u001b[1;33m\u001b[0m\u001b[0m\n\u001b[0;32m      3\u001b[0m \u001b[0mfeat\u001b[0m\u001b[1;33m[\u001b[0m\u001b[1;33m[\u001b[0m\u001b[1;34m'e1'\u001b[0m\u001b[1;33m,\u001b[0m\u001b[1;34m'e2'\u001b[0m\u001b[1;33m]\u001b[0m\u001b[1;33m]\u001b[0m \u001b[1;33m=\u001b[0m \u001b[1;36m.2\u001b[0m\u001b[1;33m**\u001b[0m\u001b[1;36m2\u001b[0m\u001b[1;33m/\u001b[0m\u001b[1;36m.27\u001b[0m\u001b[1;33m**\u001b[0m\u001b[1;36m2\u001b[0m\u001b[1;33m*\u001b[0m\u001b[0mend_res\u001b[0m\u001b[1;33m[\u001b[0m\u001b[1;33m[\u001b[0m\u001b[1;34m'e1'\u001b[0m\u001b[1;33m,\u001b[0m\u001b[1;34m'e2'\u001b[0m\u001b[1;33m]\u001b[0m\u001b[1;33m]\u001b[0m\u001b[1;33m\u001b[0m\u001b[0m\n\u001b[0;32m      4\u001b[0m \u001b[0mfeat\u001b[0m\u001b[1;33m[\u001b[0m\u001b[1;33m[\u001b[0m\u001b[1;34m'inputE'\u001b[0m\u001b[1;33m,\u001b[0m \u001b[1;34m'inputS'\u001b[0m\u001b[1;33m,\u001b[0m \u001b[1;34m'inputTheta'\u001b[0m\u001b[1;33m]\u001b[0m\u001b[1;33m]\u001b[0m \u001b[1;33m=\u001b[0m \u001b[0mend_res\u001b[0m\u001b[1;33m[\u001b[0m\u001b[1;33m[\u001b[0m\u001b[1;34m'inputE'\u001b[0m\u001b[1;33m,\u001b[0m \u001b[1;34m'inputS'\u001b[0m\u001b[1;33m,\u001b[0m \u001b[1;34m'inputTheta'\u001b[0m\u001b[1;33m]\u001b[0m\u001b[1;33m]\u001b[0m\u001b[1;33m\u001b[0m\u001b[0m\n",
      "\u001b[1;32m/u/ki/mbaumer/anaconda/lib/python2.7/site-packages/pandas/core/frame.pyc\u001b[0m in \u001b[0;36m__setitem__\u001b[1;34m(self, key, value)\u001b[0m\n\u001b[0;32m   2125\u001b[0m         \u001b[1;32melse\u001b[0m\u001b[1;33m:\u001b[0m\u001b[1;33m\u001b[0m\u001b[0m\n\u001b[0;32m   2126\u001b[0m             \u001b[1;31m# set column\u001b[0m\u001b[1;33m\u001b[0m\u001b[1;33m\u001b[0m\u001b[0m\n\u001b[1;32m-> 2127\u001b[1;33m             \u001b[0mself\u001b[0m\u001b[1;33m.\u001b[0m\u001b[0m_set_item\u001b[0m\u001b[1;33m(\u001b[0m\u001b[0mkey\u001b[0m\u001b[1;33m,\u001b[0m \u001b[0mvalue\u001b[0m\u001b[1;33m)\u001b[0m\u001b[1;33m\u001b[0m\u001b[0m\n\u001b[0m\u001b[0;32m   2128\u001b[0m \u001b[1;33m\u001b[0m\u001b[0m\n\u001b[0;32m   2129\u001b[0m     \u001b[1;32mdef\u001b[0m \u001b[0m_setitem_slice\u001b[0m\u001b[1;33m(\u001b[0m\u001b[0mself\u001b[0m\u001b[1;33m,\u001b[0m \u001b[0mkey\u001b[0m\u001b[1;33m,\u001b[0m \u001b[0mvalue\u001b[0m\u001b[1;33m)\u001b[0m\u001b[1;33m:\u001b[0m\u001b[1;33m\u001b[0m\u001b[0m\n",
      "\u001b[1;32m/u/ki/mbaumer/anaconda/lib/python2.7/site-packages/pandas/core/frame.pyc\u001b[0m in \u001b[0;36m_set_item\u001b[1;34m(self, key, value)\u001b[0m\n\u001b[0;32m   2202\u001b[0m \u001b[1;33m\u001b[0m\u001b[0m\n\u001b[0;32m   2203\u001b[0m         \u001b[0mself\u001b[0m\u001b[1;33m.\u001b[0m\u001b[0m_ensure_valid_index\u001b[0m\u001b[1;33m(\u001b[0m\u001b[0mvalue\u001b[0m\u001b[1;33m)\u001b[0m\u001b[1;33m\u001b[0m\u001b[0m\n\u001b[1;32m-> 2204\u001b[1;33m         \u001b[0mvalue\u001b[0m \u001b[1;33m=\u001b[0m \u001b[0mself\u001b[0m\u001b[1;33m.\u001b[0m\u001b[0m_sanitize_column\u001b[0m\u001b[1;33m(\u001b[0m\u001b[0mkey\u001b[0m\u001b[1;33m,\u001b[0m \u001b[0mvalue\u001b[0m\u001b[1;33m)\u001b[0m\u001b[1;33m\u001b[0m\u001b[0m\n\u001b[0m\u001b[0;32m   2205\u001b[0m         \u001b[0mNDFrame\u001b[0m\u001b[1;33m.\u001b[0m\u001b[0m_set_item\u001b[0m\u001b[1;33m(\u001b[0m\u001b[0mself\u001b[0m\u001b[1;33m,\u001b[0m \u001b[0mkey\u001b[0m\u001b[1;33m,\u001b[0m \u001b[0mvalue\u001b[0m\u001b[1;33m)\u001b[0m\u001b[1;33m\u001b[0m\u001b[0m\n\u001b[0;32m   2206\u001b[0m \u001b[1;33m\u001b[0m\u001b[0m\n",
      "\u001b[1;32m/u/ki/mbaumer/anaconda/lib/python2.7/site-packages/pandas/core/frame.pyc\u001b[0m in \u001b[0;36m_sanitize_column\u001b[1;34m(self, key, value)\u001b[0m\n\u001b[0;32m   2339\u001b[0m \u001b[1;33m\u001b[0m\u001b[0m\n\u001b[0;32m   2340\u001b[0m         \u001b[1;32mif\u001b[0m \u001b[0misinstance\u001b[0m\u001b[1;33m(\u001b[0m\u001b[0mvalue\u001b[0m\u001b[1;33m,\u001b[0m \u001b[0mSeries\u001b[0m\u001b[1;33m)\u001b[0m\u001b[1;33m:\u001b[0m\u001b[1;33m\u001b[0m\u001b[0m\n\u001b[1;32m-> 2341\u001b[1;33m             \u001b[0mvalue\u001b[0m \u001b[1;33m=\u001b[0m \u001b[0mreindexer\u001b[0m\u001b[1;33m(\u001b[0m\u001b[0mvalue\u001b[0m\u001b[1;33m)\u001b[0m\u001b[1;33m\u001b[0m\u001b[0m\n\u001b[0m\u001b[0;32m   2342\u001b[0m \u001b[1;33m\u001b[0m\u001b[0m\n\u001b[0;32m   2343\u001b[0m         \u001b[1;32melif\u001b[0m \u001b[0misinstance\u001b[0m\u001b[1;33m(\u001b[0m\u001b[0mvalue\u001b[0m\u001b[1;33m,\u001b[0m \u001b[0mDataFrame\u001b[0m\u001b[1;33m)\u001b[0m\u001b[1;33m:\u001b[0m\u001b[1;33m\u001b[0m\u001b[0m\n",
      "\u001b[1;32m/u/ki/mbaumer/anaconda/lib/python2.7/site-packages/pandas/core/frame.pyc\u001b[0m in \u001b[0;36mreindexer\u001b[1;34m(value)\u001b[0m\n\u001b[0;32m   2326\u001b[0m                 \u001b[1;31m# GH 4107\u001b[0m\u001b[1;33m\u001b[0m\u001b[1;33m\u001b[0m\u001b[0m\n\u001b[0;32m   2327\u001b[0m                 \u001b[1;32mtry\u001b[0m\u001b[1;33m:\u001b[0m\u001b[1;33m\u001b[0m\u001b[0m\n\u001b[1;32m-> 2328\u001b[1;33m                     \u001b[0mvalue\u001b[0m \u001b[1;33m=\u001b[0m \u001b[0mvalue\u001b[0m\u001b[1;33m.\u001b[0m\u001b[0mreindex\u001b[0m\u001b[1;33m(\u001b[0m\u001b[0mself\u001b[0m\u001b[1;33m.\u001b[0m\u001b[0mindex\u001b[0m\u001b[1;33m)\u001b[0m\u001b[1;33m.\u001b[0m\u001b[0mvalues\u001b[0m\u001b[1;33m\u001b[0m\u001b[0m\n\u001b[0m\u001b[0;32m   2329\u001b[0m                 \u001b[1;32mexcept\u001b[0m \u001b[0mException\u001b[0m \u001b[1;32mas\u001b[0m \u001b[0me\u001b[0m\u001b[1;33m:\u001b[0m\u001b[1;33m\u001b[0m\u001b[0m\n\u001b[0;32m   2330\u001b[0m \u001b[1;33m\u001b[0m\u001b[0m\n",
      "\u001b[1;32m/u/ki/mbaumer/anaconda/lib/python2.7/site-packages/pandas/core/series.pyc\u001b[0m in \u001b[0;36mreindex\u001b[1;34m(self, index, **kwargs)\u001b[0m\n\u001b[0;32m   2149\u001b[0m     \u001b[1;33m@\u001b[0m\u001b[0mAppender\u001b[0m\u001b[1;33m(\u001b[0m\u001b[0mgeneric\u001b[0m\u001b[1;33m.\u001b[0m\u001b[0m_shared_docs\u001b[0m\u001b[1;33m[\u001b[0m\u001b[1;34m'reindex'\u001b[0m\u001b[1;33m]\u001b[0m \u001b[1;33m%\u001b[0m \u001b[0m_shared_doc_kwargs\u001b[0m\u001b[1;33m)\u001b[0m\u001b[1;33m\u001b[0m\u001b[0m\n\u001b[0;32m   2150\u001b[0m     \u001b[1;32mdef\u001b[0m \u001b[0mreindex\u001b[0m\u001b[1;33m(\u001b[0m\u001b[0mself\u001b[0m\u001b[1;33m,\u001b[0m \u001b[0mindex\u001b[0m\u001b[1;33m=\u001b[0m\u001b[0mNone\u001b[0m\u001b[1;33m,\u001b[0m \u001b[1;33m**\u001b[0m\u001b[0mkwargs\u001b[0m\u001b[1;33m)\u001b[0m\u001b[1;33m:\u001b[0m\u001b[1;33m\u001b[0m\u001b[0m\n\u001b[1;32m-> 2151\u001b[1;33m         \u001b[1;32mreturn\u001b[0m \u001b[0msuper\u001b[0m\u001b[1;33m(\u001b[0m\u001b[0mSeries\u001b[0m\u001b[1;33m,\u001b[0m \u001b[0mself\u001b[0m\u001b[1;33m)\u001b[0m\u001b[1;33m.\u001b[0m\u001b[0mreindex\u001b[0m\u001b[1;33m(\u001b[0m\u001b[0mindex\u001b[0m\u001b[1;33m=\u001b[0m\u001b[0mindex\u001b[0m\u001b[1;33m,\u001b[0m \u001b[1;33m**\u001b[0m\u001b[0mkwargs\u001b[0m\u001b[1;33m)\u001b[0m\u001b[1;33m\u001b[0m\u001b[0m\n\u001b[0m\u001b[0;32m   2152\u001b[0m \u001b[1;33m\u001b[0m\u001b[0m\n\u001b[0;32m   2153\u001b[0m     \u001b[1;33m@\u001b[0m\u001b[0mAppender\u001b[0m\u001b[1;33m(\u001b[0m\u001b[0mgeneric\u001b[0m\u001b[1;33m.\u001b[0m\u001b[0m_shared_docs\u001b[0m\u001b[1;33m[\u001b[0m\u001b[1;34m'fillna'\u001b[0m\u001b[1;33m]\u001b[0m \u001b[1;33m%\u001b[0m \u001b[0m_shared_doc_kwargs\u001b[0m\u001b[1;33m)\u001b[0m\u001b[1;33m\u001b[0m\u001b[0m\n",
      "\u001b[1;32m/u/ki/mbaumer/anaconda/lib/python2.7/site-packages/pandas/core/generic.pyc\u001b[0m in \u001b[0;36mreindex\u001b[1;34m(self, *args, **kwargs)\u001b[0m\n\u001b[0;32m   1771\u001b[0m         \u001b[1;31m# perform the reindex on the axes\u001b[0m\u001b[1;33m\u001b[0m\u001b[1;33m\u001b[0m\u001b[0m\n\u001b[0;32m   1772\u001b[0m         return self._reindex_axes(axes, level, limit,\n\u001b[1;32m-> 1773\u001b[1;33m                                   method, fill_value, copy).__finalize__(self)\n\u001b[0m\u001b[0;32m   1774\u001b[0m \u001b[1;33m\u001b[0m\u001b[0m\n\u001b[0;32m   1775\u001b[0m     \u001b[1;32mdef\u001b[0m \u001b[0m_reindex_axes\u001b[0m\u001b[1;33m(\u001b[0m\u001b[0mself\u001b[0m\u001b[1;33m,\u001b[0m \u001b[0maxes\u001b[0m\u001b[1;33m,\u001b[0m \u001b[0mlevel\u001b[0m\u001b[1;33m,\u001b[0m \u001b[0mlimit\u001b[0m\u001b[1;33m,\u001b[0m \u001b[0mmethod\u001b[0m\u001b[1;33m,\u001b[0m \u001b[0mfill_value\u001b[0m\u001b[1;33m,\u001b[0m \u001b[0mcopy\u001b[0m\u001b[1;33m)\u001b[0m\u001b[1;33m:\u001b[0m\u001b[1;33m\u001b[0m\u001b[0m\n",
      "\u001b[1;32m/u/ki/mbaumer/anaconda/lib/python2.7/site-packages/pandas/core/generic.pyc\u001b[0m in \u001b[0;36m_reindex_axes\u001b[1;34m(self, axes, level, limit, method, fill_value, copy)\u001b[0m\n\u001b[0;32m   1783\u001b[0m             \u001b[0max\u001b[0m \u001b[1;33m=\u001b[0m \u001b[0mself\u001b[0m\u001b[1;33m.\u001b[0m\u001b[0m_get_axis\u001b[0m\u001b[1;33m(\u001b[0m\u001b[0ma\u001b[0m\u001b[1;33m)\u001b[0m\u001b[1;33m\u001b[0m\u001b[0m\n\u001b[0;32m   1784\u001b[0m             new_index, indexer = ax.reindex(\n\u001b[1;32m-> 1785\u001b[1;33m                 labels, level=level, limit=limit, method=method)\n\u001b[0m\u001b[0;32m   1786\u001b[0m \u001b[1;33m\u001b[0m\u001b[0m\n\u001b[0;32m   1787\u001b[0m             \u001b[0maxis\u001b[0m \u001b[1;33m=\u001b[0m \u001b[0mself\u001b[0m\u001b[1;33m.\u001b[0m\u001b[0m_get_axis_number\u001b[0m\u001b[1;33m(\u001b[0m\u001b[0ma\u001b[0m\u001b[1;33m)\u001b[0m\u001b[1;33m\u001b[0m\u001b[0m\n",
      "\u001b[1;32m/u/ki/mbaumer/anaconda/lib/python2.7/site-packages/pandas/core/index.pyc\u001b[0m in \u001b[0;36mreindex\u001b[1;34m(self, target, method, level, limit)\u001b[0m\n\u001b[0;32m   1905\u001b[0m                         raise ValueError(\"cannot reindex a non-unique index \"\n\u001b[0;32m   1906\u001b[0m                                          \"with a method or limit\")\n\u001b[1;32m-> 1907\u001b[1;33m                     \u001b[0mindexer\u001b[0m\u001b[1;33m,\u001b[0m \u001b[0mmissing\u001b[0m \u001b[1;33m=\u001b[0m \u001b[0mself\u001b[0m\u001b[1;33m.\u001b[0m\u001b[0mget_indexer_non_unique\u001b[0m\u001b[1;33m(\u001b[0m\u001b[0mtarget\u001b[0m\u001b[1;33m)\u001b[0m\u001b[1;33m\u001b[0m\u001b[0m\n\u001b[0m\u001b[0;32m   1908\u001b[0m \u001b[1;33m\u001b[0m\u001b[0m\n\u001b[0;32m   1909\u001b[0m         \u001b[1;32mif\u001b[0m \u001b[0mpreserve_names\u001b[0m \u001b[1;32mand\u001b[0m \u001b[0mtarget\u001b[0m\u001b[1;33m.\u001b[0m\u001b[0mnlevels\u001b[0m \u001b[1;33m==\u001b[0m \u001b[1;36m1\u001b[0m \u001b[1;32mand\u001b[0m \u001b[0mtarget\u001b[0m\u001b[1;33m.\u001b[0m\u001b[0mname\u001b[0m \u001b[1;33m!=\u001b[0m \u001b[0mself\u001b[0m\u001b[1;33m.\u001b[0m\u001b[0mname\u001b[0m\u001b[1;33m:\u001b[0m\u001b[1;33m\u001b[0m\u001b[0m\n",
      "\u001b[1;32m/u/ki/mbaumer/anaconda/lib/python2.7/site-packages/pandas/core/index.pyc\u001b[0m in \u001b[0;36mget_indexer_non_unique\u001b[1;34m(self, target)\u001b[0m\n\u001b[0;32m   1771\u001b[0m             \u001b[0mtgt_values\u001b[0m \u001b[1;33m=\u001b[0m \u001b[0mtarget\u001b[0m\u001b[1;33m.\u001b[0m\u001b[0mvalues\u001b[0m\u001b[1;33m\u001b[0m\u001b[0m\n\u001b[0;32m   1772\u001b[0m \u001b[1;33m\u001b[0m\u001b[0m\n\u001b[1;32m-> 1773\u001b[1;33m         \u001b[0mindexer\u001b[0m\u001b[1;33m,\u001b[0m \u001b[0mmissing\u001b[0m \u001b[1;33m=\u001b[0m \u001b[0mself\u001b[0m\u001b[1;33m.\u001b[0m\u001b[0m_engine\u001b[0m\u001b[1;33m.\u001b[0m\u001b[0mget_indexer_non_unique\u001b[0m\u001b[1;33m(\u001b[0m\u001b[0mtgt_values\u001b[0m\u001b[1;33m)\u001b[0m\u001b[1;33m\u001b[0m\u001b[0m\n\u001b[0m\u001b[0;32m   1774\u001b[0m         \u001b[1;32mreturn\u001b[0m \u001b[0mIndex\u001b[0m\u001b[1;33m(\u001b[0m\u001b[0mindexer\u001b[0m\u001b[1;33m)\u001b[0m\u001b[1;33m,\u001b[0m \u001b[0mmissing\u001b[0m\u001b[1;33m\u001b[0m\u001b[0m\n\u001b[0;32m   1775\u001b[0m \u001b[1;33m\u001b[0m\u001b[0m\n",
      "\u001b[1;32mpandas/index.pyx\u001b[0m in \u001b[0;36mpandas.index.IndexEngine.get_indexer_non_unique (pandas/index.c:6242)\u001b[1;34m()\u001b[0m\n",
      "\u001b[1;32m/u/ki/mbaumer/anaconda/lib/python2.7/site-packages/numpy/core/fromnumeric.pyc\u001b[0m in \u001b[0;36mresize\u001b[1;34m(a, new_shape)\u001b[0m\n\u001b[0;32m   1074\u001b[0m         \u001b[0mextra\u001b[0m \u001b[1;33m=\u001b[0m \u001b[0mNa\u001b[0m\u001b[1;33m-\u001b[0m\u001b[0mextra\u001b[0m\u001b[1;33m\u001b[0m\u001b[0m\n\u001b[0;32m   1075\u001b[0m \u001b[1;33m\u001b[0m\u001b[0m\n\u001b[1;32m-> 1076\u001b[1;33m     \u001b[0ma\u001b[0m \u001b[1;33m=\u001b[0m \u001b[0mconcatenate\u001b[0m\u001b[1;33m(\u001b[0m \u001b[1;33m(\u001b[0m\u001b[0ma\u001b[0m\u001b[1;33m,\u001b[0m\u001b[1;33m)\u001b[0m\u001b[1;33m*\u001b[0m\u001b[0mn_copies\u001b[0m\u001b[1;33m)\u001b[0m\u001b[1;33m\u001b[0m\u001b[0m\n\u001b[0m\u001b[0;32m   1077\u001b[0m     \u001b[1;32mif\u001b[0m \u001b[0mextra\u001b[0m \u001b[1;33m>\u001b[0m \u001b[1;36m0\u001b[0m\u001b[1;33m:\u001b[0m\u001b[1;33m\u001b[0m\u001b[0m\n\u001b[0;32m   1078\u001b[0m         \u001b[0ma\u001b[0m \u001b[1;33m=\u001b[0m \u001b[0ma\u001b[0m\u001b[1;33m[\u001b[0m\u001b[1;33m:\u001b[0m\u001b[1;33m-\u001b[0m\u001b[0mextra\u001b[0m\u001b[1;33m]\u001b[0m\u001b[1;33m\u001b[0m\u001b[0m\n",
      "\u001b[1;31mKeyboardInterrupt\u001b[0m: "
     ]
    }
   ],
   "source": [
    "feat['flux'] = end_res['flux']/(.001*np.log(10)/2.5) #convert to mMags\n",
    "feat[['Mx','My']] = 200*end_res[['Mx','My']] \n",
    "feat[['e1','e2']] = .2**2/.27**2*end_res[['e1','e2']]\n",
    "feat[['inputE', 'inputS', 'inputTheta']] = end_res[['inputE', 'inputS', 'inputTheta']]"
   ]
  },
  {
   "cell_type": "code",
   "execution_count": 119,
   "metadata": {
    "collapsed": false
   },
   "outputs": [
    {
     "name": "stdout",
     "output_type": "stream",
     "text": [
      "(10644, 8)\n",
      "(10644, 8)\n",
      "(10644, 8)\n",
      "(10644, 8)\n"
     ]
    }
   ],
   "source": [
    "print feat.shape\n",
    "feat = feat.dropna()\n",
    "print feat.shape\n",
    "feat = feat[np.logical_and(feat['Mx'] > -1,feat['Mx'] < 1)]\n",
    "print feat.shape\n",
    "feat = feat[np.logical_and(feat['My'] > -1,feat['My'] < 1)]\n",
    "print feat.shape\n",
    "feat = feat[np.logical_and(feat['flux'] > -500,feat['My'] < 500)]\n",
    "print feat.shape"
   ]
  },
  {
   "cell_type": "markdown",
   "metadata": {
    "collapsed": true
   },
   "source": [
    "##Plotting various biases (hold everything else constant)\n",
    "- flux vs. size\n",
    "- flux vs. ellipticity\n",
    "- astrometry vs. size\n",
    "- astrometry vs. ellipticity\n",
    "- e1/e2 error vs. ellip\n",
    "- e1/e2 error vs. size"
   ]
  },
  {
   "cell_type": "code",
   "execution_count": 123,
   "metadata": {
    "collapsed": true
   },
   "outputs": [],
   "source": [
    "grouped = feat.groupby(['inputE','inputS','inputTheta'])"
   ]
  },
  {
   "cell_type": "code",
   "execution_count": 125,
   "metadata": {
    "collapsed": false
   },
   "outputs": [],
   "source": [
    "stats = grouped.describe()"
   ]
  },
  {
   "cell_type": "code",
   "execution_count": 141,
   "metadata": {
    "collapsed": false
   },
   "outputs": [
    {
     "data": {
      "text/plain": [
       "100.0"
      ]
     },
     "execution_count": 141,
     "metadata": {},
     "output_type": "execute_result"
    }
   ],
   "source": [
    "for s in svec\n",
    "stats.loc[(0,2,0)]['Mx']['count']"
   ]
  },
  {
   "cell_type": "code",
   "execution_count": null,
   "metadata": {
    "collapsed": true
   },
   "outputs": [],
   "source": []
  }
 ],
 "metadata": {
  "kernelspec": {
   "display_name": "Python 2",
   "language": "python",
   "name": "python2"
  },
  "language_info": {
   "codemirror_mode": {
    "name": "ipython",
    "version": 2
   },
   "file_extension": ".py",
   "mimetype": "text/x-python",
   "name": "python",
   "nbconvert_exporter": "python",
   "pygments_lexer": "ipython2",
   "version": "2.7.10"
  }
 },
 "nbformat": 4,
 "nbformat_minor": 0
}
